{
 "cells": [
  {
   "cell_type": "code",
   "execution_count": 35,
   "id": "9c4af179",
   "metadata": {},
   "outputs": [],
   "source": [
    "import warnings\n",
    "import pandas as pd\n",
    "import os\n",
    "import sys\n",
    "import time\n",
    "import numpy as np\n",
    "import pandas as pd\n",
    "import matplotlib.pyplot as plt\n",
    "from tqdm.auto import tqdm\n",
    "import datetime\n",
    "import math\n",
    "import re\n",
    "from pathlib import Path\n",
    "\n",
    "from sklearn.model_selection import GroupKFold"
   ]
  },
  {
   "cell_type": "code",
   "execution_count": 2,
   "id": "e7e70250",
   "metadata": {},
   "outputs": [],
   "source": [
    "from tqdm import tqdm"
   ]
  },
  {
   "cell_type": "code",
   "execution_count": 3,
   "id": "86bc1333",
   "metadata": {
    "scrolled": false
   },
   "outputs": [
    {
     "name": "stderr",
     "output_type": "stream",
     "text": [
      "/opt/conda/lib/python3.10/site-packages/dask/dataframe/_pyarrow_compat.py:23: UserWarning: You are using pyarrow version 11.0.0 which is known to be insecure. See https://www.cve.org/CVERecord?id=CVE-2023-47248 for further details. Please upgrade to pyarrow>=14.0.1 or install pyarrow-hotfix to patch your current version.\n",
      "  warnings.warn(\n"
     ]
    }
   ],
   "source": [
    "import lightgbm"
   ]
  },
  {
   "cell_type": "code",
   "execution_count": 4,
   "id": "1d94515c",
   "metadata": {},
   "outputs": [],
   "source": [
    "target_col = ['x_0', 'y_0', 'z_0', 'x_1', 'y_1', 'z_1', 'x_2', 'y_2',  'z_2', 'x_3', 'y_3', 'z_3', 'x_4', 'y_4', 'z_4', 'x_5', 'y_5', 'z_5']"
   ]
  },
  {
   "cell_type": "code",
   "execution_count": 5,
   "id": "8fcb0920",
   "metadata": {},
   "outputs": [],
   "source": [
    "warnings.filterwarnings('ignore')\n",
    "import random\n",
    "import torch\n",
    "def set_seed(seed=None, cudnn_deterministic=True):\n",
    "    if seed is None:\n",
    "        seed = 42\n",
    "\n",
    "    os.environ['PYTHONHASHSEED'] = str(seed)\n",
    "    np.random.seed(seed)\n",
    "    random.seed(seed)\n",
    "    torch.manual_seed(seed)\n",
    "    torch.cuda.manual_seed(seed)\n",
    "    torch.backends.cudnn.deterministic = cudnn_deterministic\n",
    "    torch.backends.cudnn.benchmark = False\n",
    "seed = 77\n",
    "set_seed(seed)"
   ]
  },
  {
   "cell_type": "code",
   "execution_count": 6,
   "id": "97ac1a4f",
   "metadata": {},
   "outputs": [],
   "source": [
    "class AverageMeter(object):\n",
    "    \"\"\"Computes and stores the average and current value\"\"\"\n",
    "\n",
    "    def __init__(self):\n",
    "        self.reset()\n",
    "\n",
    "    def reset(self):\n",
    "        self.val = 0\n",
    "        self.avg = 0\n",
    "        self.sum = 0\n",
    "        self.count = 0\n",
    "\n",
    "    def update(self, val, n=1):\n",
    "        self.val = val\n",
    "        self.sum += val * n\n",
    "        self.count += n\n",
    "        self.avg = self.sum / self.count\n"
   ]
  },
  {
   "cell_type": "code",
   "execution_count": 7,
   "id": "022d343b",
   "metadata": {},
   "outputs": [],
   "source": [
    "def mae(gt: np.array, pred: np.array):\n",
    "    abs_diff = np.abs(gt - pred)\n",
    "    score = np.mean(abs_diff.reshape(-1, ))\n",
    "    return score"
   ]
  },
  {
   "cell_type": "code",
   "execution_count": 8,
   "id": "f955b4c5",
   "metadata": {},
   "outputs": [],
   "source": [
    "ROOT_DIR = Path.cwd().parents[2]\n",
    "DATA_DIR = ROOT_DIR / 'data'\n",
    "gbdt_name = Path.cwd().stem\n",
    "\n",
    "oof_exp_name = 'exp0001'\n",
    "\n",
    "ORIGINAL_DATA_DIR = DATA_DIR / 'original_data/atmaCup#18_dataset'\n",
    "train_df = pd.read_csv(ORIGINAL_DATA_DIR / 'train_features.csv')\n",
    "test_df = pd.read_csv(ORIGINAL_DATA_DIR / 'test_features.csv')\n",
    "\n",
    "OUTPUT_DIR = ROOT_DIR / 'outputs'\n",
    "\n",
    "SAVE_DIR = OUTPUT_DIR / 'gbdt' / gbdt_name\n",
    "SAVE_DIR.mkdir(exist_ok=True, parents=True)"
   ]
  },
  {
   "cell_type": "code",
   "execution_count": 9,
   "id": "a9fceb90",
   "metadata": {},
   "outputs": [],
   "source": [
    "def common_preprocess(target_df):\n",
    "    # boolのcol\n",
    "    bool_cols = ['brakePressed', 'gasPressed', 'leftBlinker', 'rightBlinker']\n",
    "    print('bool_cols', bool_cols)\n",
    "    target_df[bool_cols] = target_df[bool_cols].astype(int)\n",
    "\n",
    "    target_df['scene'] = target_df['ID'].str.split('_').str[0]\n",
    "    target_df['scene_sec'] = target_df['ID'].str.split('_').str[1].astype(int)\n",
    "\n",
    "    count_df = target_df.groupby('scene').size()\n",
    "    target_df['scene_count'] = target_df['scene'].map(count_df)\n",
    "    return target_df"
   ]
  },
  {
   "cell_type": "code",
   "execution_count": 10,
   "id": "57c3653e",
   "metadata": {},
   "outputs": [
    {
     "name": "stdout",
     "output_type": "stream",
     "text": [
      "bool_cols ['brakePressed', 'gasPressed', 'leftBlinker', 'rightBlinker']\n",
      "bool_cols ['brakePressed', 'gasPressed', 'leftBlinker', 'rightBlinker']\n"
     ]
    }
   ],
   "source": [
    "train_df = common_preprocess(train_df)\n",
    "test_df = common_preprocess(test_df)"
   ]
  },
  {
   "cell_type": "code",
   "execution_count": 11,
   "id": "cb5ad153",
   "metadata": {
    "scrolled": true
   },
   "outputs": [
    {
     "data": {
      "text/plain": [
       "Index(['ID', 'vEgo', 'aEgo', 'steeringAngleDeg', 'steeringTorque', 'brake',\n",
       "       'brakePressed', 'gas', 'gasPressed', 'gearShifter', 'leftBlinker',\n",
       "       'rightBlinker', 'x_0', 'y_0', 'z_0', 'x_1', 'y_1', 'z_1', 'x_2', 'y_2',\n",
       "       'z_2', 'x_3', 'y_3', 'z_3', 'x_4', 'y_4', 'z_4', 'x_5', 'y_5', 'z_5',\n",
       "       'scene', 'scene_sec', 'scene_count'],\n",
       "      dtype='object')"
      ]
     },
     "execution_count": 11,
     "metadata": {},
     "output_type": "execute_result"
    }
   ],
   "source": [
    "train_df.columns"
   ]
  },
  {
   "cell_type": "code",
   "execution_count": 12,
   "id": "a0f4c5ea",
   "metadata": {},
   "outputs": [
    {
     "name": "stderr",
     "output_type": "stream",
     "text": [
      "45098it [03:13, 233.37it/s]\n"
     ]
    }
   ],
   "source": [
    "import os, json\n",
    "\n",
    "tl_dir = ORIGINAL_DATA_DIR / 'traffic_lights'\n",
    "\n",
    "traffic_lights = []\n",
    "id_class_list = []\n",
    "for json_path in tqdm(tl_dir.glob('*.json')):\n",
    "    id_ = json_path.stem\n",
    "    traffic_light = json.load(open(json_path))\n",
    "\n",
    "    traffic_lights.append(traffic_light)\n",
    "\n",
    "    for traffic_light in traffic_light:\n",
    "        id_class_list.append((id_.split('.')[0], traffic_light['class']))\n",
    "\n",
    "counts = [len(traffic_light) for traffic_light in traffic_lights]"
   ]
  },
  {
   "cell_type": "code",
   "execution_count": 13,
   "id": "611da8cf",
   "metadata": {
    "scrolled": true
   },
   "outputs": [
    {
     "data": {
      "text/plain": [
       "class\n",
       "green       5879\n",
       "red         4915\n",
       "empty       1352\n",
       "yellow       682\n",
       "straight     647\n",
       "left         576\n",
       "right        306\n",
       "other         60\n",
       "Name: count, dtype: int64"
      ]
     },
     "execution_count": 13,
     "metadata": {},
     "output_type": "execute_result"
    }
   ],
   "source": [
    "traffic_lights_df = pd.DataFrame(id_class_list, columns=['ID', 'class'])\n",
    "traffic_lights_df['class'].value_counts()"
   ]
  },
  {
   "cell_type": "code",
   "execution_count": 14,
   "id": "fd86c4e9",
   "metadata": {},
   "outputs": [
    {
     "data": {
      "text/html": [
       "<div>\n",
       "<style scoped>\n",
       "    .dataframe tbody tr th:only-of-type {\n",
       "        vertical-align: middle;\n",
       "    }\n",
       "\n",
       "    .dataframe tbody tr th {\n",
       "        vertical-align: top;\n",
       "    }\n",
       "\n",
       "    .dataframe thead th {\n",
       "        text-align: right;\n",
       "    }\n",
       "</style>\n",
       "<table border=\"1\" class=\"dataframe\">\n",
       "  <thead>\n",
       "    <tr style=\"text-align: right;\">\n",
       "      <th></th>\n",
       "      <th>ID</th>\n",
       "      <th>class</th>\n",
       "    </tr>\n",
       "  </thead>\n",
       "  <tbody>\n",
       "    <tr>\n",
       "      <th>0</th>\n",
       "      <td>000fb056f97572d384bae4f5fc1e0f28_20</td>\n",
       "      <td>green</td>\n",
       "    </tr>\n",
       "    <tr>\n",
       "      <th>1</th>\n",
       "      <td>000fb056f97572d384bae4f5fc1e0f28_220</td>\n",
       "      <td>green</td>\n",
       "    </tr>\n",
       "    <tr>\n",
       "      <th>2</th>\n",
       "      <td>000fb056f97572d384bae4f5fc1e0f28_320</td>\n",
       "      <td>green</td>\n",
       "    </tr>\n",
       "    <tr>\n",
       "      <th>3</th>\n",
       "      <td>000fb056f97572d384bae4f5fc1e0f28_320</td>\n",
       "      <td>green</td>\n",
       "    </tr>\n",
       "    <tr>\n",
       "      <th>4</th>\n",
       "      <td>000fb056f97572d384bae4f5fc1e0f28_420</td>\n",
       "      <td>green</td>\n",
       "    </tr>\n",
       "    <tr>\n",
       "      <th>...</th>\n",
       "      <td>...</td>\n",
       "      <td>...</td>\n",
       "    </tr>\n",
       "    <tr>\n",
       "      <th>14412</th>\n",
       "      <td>ffe89d836ecae270d82b1903e6245149_120</td>\n",
       "      <td>red</td>\n",
       "    </tr>\n",
       "    <tr>\n",
       "      <th>14413</th>\n",
       "      <td>ffeff0e119ff5eb6885d834ea6a9667a_220</td>\n",
       "      <td>green</td>\n",
       "    </tr>\n",
       "    <tr>\n",
       "      <th>14414</th>\n",
       "      <td>ffeff0e119ff5eb6885d834ea6a9667a_220</td>\n",
       "      <td>green</td>\n",
       "    </tr>\n",
       "    <tr>\n",
       "      <th>14415</th>\n",
       "      <td>ffeff0e119ff5eb6885d834ea6a9667a_220</td>\n",
       "      <td>yellow</td>\n",
       "    </tr>\n",
       "    <tr>\n",
       "      <th>14416</th>\n",
       "      <td>ffeff0e119ff5eb6885d834ea6a9667a_220</td>\n",
       "      <td>green</td>\n",
       "    </tr>\n",
       "  </tbody>\n",
       "</table>\n",
       "<p>14417 rows × 2 columns</p>\n",
       "</div>"
      ],
      "text/plain": [
       "                                         ID   class\n",
       "0       000fb056f97572d384bae4f5fc1e0f28_20   green\n",
       "1      000fb056f97572d384bae4f5fc1e0f28_220   green\n",
       "2      000fb056f97572d384bae4f5fc1e0f28_320   green\n",
       "3      000fb056f97572d384bae4f5fc1e0f28_320   green\n",
       "4      000fb056f97572d384bae4f5fc1e0f28_420   green\n",
       "...                                     ...     ...\n",
       "14412  ffe89d836ecae270d82b1903e6245149_120     red\n",
       "14413  ffeff0e119ff5eb6885d834ea6a9667a_220   green\n",
       "14414  ffeff0e119ff5eb6885d834ea6a9667a_220   green\n",
       "14415  ffeff0e119ff5eb6885d834ea6a9667a_220  yellow\n",
       "14416  ffeff0e119ff5eb6885d834ea6a9667a_220   green\n",
       "\n",
       "[14417 rows x 2 columns]"
      ]
     },
     "execution_count": 14,
     "metadata": {},
     "output_type": "execute_result"
    }
   ],
   "source": [
    "traffic_lights_df"
   ]
  },
  {
   "cell_type": "code",
   "execution_count": 15,
   "id": "6bb38ec5",
   "metadata": {},
   "outputs": [],
   "source": [
    "ids = [json_path.stem for json_path in tl_dir.glob('*.json')]\n",
    "\n",
    "traffic_lights_df = pd.DataFrame({\n",
    "    'ID': ids,\n",
    "    'traffic_lights_counts': counts\n",
    "})\n",
    "\n",
    "train_df = pd.merge(train_df, traffic_lights_df, on='ID', how='left')\n",
    "test_df = pd.merge(test_df, traffic_lights_df, on='ID', how='left')"
   ]
  },
  {
   "cell_type": "code",
   "execution_count": 16,
   "id": "0049add8",
   "metadata": {},
   "outputs": [
    {
     "data": {
      "text/html": [
       "<div>\n",
       "<style scoped>\n",
       "    .dataframe tbody tr th:only-of-type {\n",
       "        vertical-align: middle;\n",
       "    }\n",
       "\n",
       "    .dataframe tbody tr th {\n",
       "        vertical-align: top;\n",
       "    }\n",
       "\n",
       "    .dataframe thead th {\n",
       "        text-align: right;\n",
       "    }\n",
       "</style>\n",
       "<table border=\"1\" class=\"dataframe\">\n",
       "  <thead>\n",
       "    <tr style=\"text-align: right;\">\n",
       "      <th></th>\n",
       "      <th>ID</th>\n",
       "      <th>vEgo</th>\n",
       "      <th>aEgo</th>\n",
       "      <th>steeringAngleDeg</th>\n",
       "      <th>steeringTorque</th>\n",
       "      <th>brake</th>\n",
       "      <th>brakePressed</th>\n",
       "      <th>gas</th>\n",
       "      <th>gasPressed</th>\n",
       "      <th>gearShifter</th>\n",
       "      <th>...</th>\n",
       "      <th>x_4</th>\n",
       "      <th>y_4</th>\n",
       "      <th>z_4</th>\n",
       "      <th>x_5</th>\n",
       "      <th>y_5</th>\n",
       "      <th>z_5</th>\n",
       "      <th>scene</th>\n",
       "      <th>scene_sec</th>\n",
       "      <th>scene_count</th>\n",
       "      <th>traffic_lights_counts</th>\n",
       "    </tr>\n",
       "  </thead>\n",
       "  <tbody>\n",
       "    <tr>\n",
       "      <th>0</th>\n",
       "      <td>00066be8e20318869c38c66be466631a_320</td>\n",
       "      <td>5.701526e+00</td>\n",
       "      <td>1.538456e+00</td>\n",
       "      <td>-2.165777</td>\n",
       "      <td>-139.0</td>\n",
       "      <td>0.0</td>\n",
       "      <td>0</td>\n",
       "      <td>0.250</td>\n",
       "      <td>1</td>\n",
       "      <td>drive</td>\n",
       "      <td>...</td>\n",
       "      <td>17.574227</td>\n",
       "      <td>0.174289</td>\n",
       "      <td>0.406331</td>\n",
       "      <td>21.951269</td>\n",
       "      <td>0.199503</td>\n",
       "      <td>0.485079</td>\n",
       "      <td>00066be8e20318869c38c66be466631a</td>\n",
       "      <td>320</td>\n",
       "      <td>3</td>\n",
       "      <td>0</td>\n",
       "    </tr>\n",
       "    <tr>\n",
       "      <th>1</th>\n",
       "      <td>00066be8e20318869c38c66be466631a_420</td>\n",
       "      <td>1.117629e+01</td>\n",
       "      <td>2.798807e-01</td>\n",
       "      <td>-11.625697</td>\n",
       "      <td>-44.0</td>\n",
       "      <td>0.0</td>\n",
       "      <td>0</td>\n",
       "      <td>0.000</td>\n",
       "      <td>0</td>\n",
       "      <td>drive</td>\n",
       "      <td>...</td>\n",
       "      <td>26.316489</td>\n",
       "      <td>0.843124</td>\n",
       "      <td>0.065000</td>\n",
       "      <td>31.383814</td>\n",
       "      <td>1.425070</td>\n",
       "      <td>0.073083</td>\n",
       "      <td>00066be8e20318869c38c66be466631a</td>\n",
       "      <td>420</td>\n",
       "      <td>3</td>\n",
       "      <td>0</td>\n",
       "    </tr>\n",
       "    <tr>\n",
       "      <th>2</th>\n",
       "      <td>00066be8e20318869c38c66be466631a_520</td>\n",
       "      <td>1.047255e+01</td>\n",
       "      <td>2.310992e-01</td>\n",
       "      <td>-2.985105</td>\n",
       "      <td>-132.0</td>\n",
       "      <td>0.0</td>\n",
       "      <td>0</td>\n",
       "      <td>0.180</td>\n",
       "      <td>1</td>\n",
       "      <td>drive</td>\n",
       "      <td>...</td>\n",
       "      <td>25.677387</td>\n",
       "      <td>-0.576985</td>\n",
       "      <td>0.102859</td>\n",
       "      <td>30.460033</td>\n",
       "      <td>-0.841894</td>\n",
       "      <td>0.152889</td>\n",
       "      <td>00066be8e20318869c38c66be466631a</td>\n",
       "      <td>520</td>\n",
       "      <td>3</td>\n",
       "      <td>0</td>\n",
       "    </tr>\n",
       "    <tr>\n",
       "      <th>3</th>\n",
       "      <td>000fb056f97572d384bae4f5fc1e0f28_120</td>\n",
       "      <td>6.055565e+00</td>\n",
       "      <td>-1.177754e-01</td>\n",
       "      <td>7.632668</td>\n",
       "      <td>173.0</td>\n",
       "      <td>0.0</td>\n",
       "      <td>0</td>\n",
       "      <td>0.000</td>\n",
       "      <td>0</td>\n",
       "      <td>drive</td>\n",
       "      <td>...</td>\n",
       "      <td>15.703514</td>\n",
       "      <td>0.960717</td>\n",
       "      <td>0.043479</td>\n",
       "      <td>19.311182</td>\n",
       "      <td>1.374655</td>\n",
       "      <td>0.058754</td>\n",
       "      <td>000fb056f97572d384bae4f5fc1e0f28</td>\n",
       "      <td>120</td>\n",
       "      <td>6</td>\n",
       "      <td>0</td>\n",
       "    </tr>\n",
       "    <tr>\n",
       "      <th>4</th>\n",
       "      <td>000fb056f97572d384bae4f5fc1e0f28_20</td>\n",
       "      <td>3.316744e+00</td>\n",
       "      <td>1.276733e+00</td>\n",
       "      <td>-31.725477</td>\n",
       "      <td>-114.0</td>\n",
       "      <td>0.0</td>\n",
       "      <td>0</td>\n",
       "      <td>0.255</td>\n",
       "      <td>1</td>\n",
       "      <td>drive</td>\n",
       "      <td>...</td>\n",
       "      <td>11.619313</td>\n",
       "      <td>-0.554488</td>\n",
       "      <td>0.011393</td>\n",
       "      <td>14.657048</td>\n",
       "      <td>-0.778800</td>\n",
       "      <td>0.044243</td>\n",
       "      <td>000fb056f97572d384bae4f5fc1e0f28</td>\n",
       "      <td>20</td>\n",
       "      <td>6</td>\n",
       "      <td>1</td>\n",
       "    </tr>\n",
       "    <tr>\n",
       "      <th>...</th>\n",
       "      <td>...</td>\n",
       "      <td>...</td>\n",
       "      <td>...</td>\n",
       "      <td>...</td>\n",
       "      <td>...</td>\n",
       "      <td>...</td>\n",
       "      <td>...</td>\n",
       "      <td>...</td>\n",
       "      <td>...</td>\n",
       "      <td>...</td>\n",
       "      <td>...</td>\n",
       "      <td>...</td>\n",
       "      <td>...</td>\n",
       "      <td>...</td>\n",
       "      <td>...</td>\n",
       "      <td>...</td>\n",
       "      <td>...</td>\n",
       "      <td>...</td>\n",
       "      <td>...</td>\n",
       "      <td>...</td>\n",
       "      <td>...</td>\n",
       "    </tr>\n",
       "    <tr>\n",
       "      <th>43366</th>\n",
       "      <td>fff88cca5f8a012427b96bdde66011e3_20</td>\n",
       "      <td>-0.000000e+00</td>\n",
       "      <td>-0.000000e+00</td>\n",
       "      <td>16.102747</td>\n",
       "      <td>-1.0</td>\n",
       "      <td>0.0</td>\n",
       "      <td>1</td>\n",
       "      <td>0.000</td>\n",
       "      <td>0</td>\n",
       "      <td>drive</td>\n",
       "      <td>...</td>\n",
       "      <td>0.034200</td>\n",
       "      <td>0.012502</td>\n",
       "      <td>-0.040583</td>\n",
       "      <td>0.043196</td>\n",
       "      <td>0.015644</td>\n",
       "      <td>-0.051309</td>\n",
       "      <td>fff88cca5f8a012427b96bdde66011e3</td>\n",
       "      <td>20</td>\n",
       "      <td>6</td>\n",
       "      <td>0</td>\n",
       "    </tr>\n",
       "    <tr>\n",
       "      <th>43367</th>\n",
       "      <td>fff88cca5f8a012427b96bdde66011e3_220</td>\n",
       "      <td>1.594968e+00</td>\n",
       "      <td>3.501294e-01</td>\n",
       "      <td>-5.791823</td>\n",
       "      <td>-97.0</td>\n",
       "      <td>0.0</td>\n",
       "      <td>0</td>\n",
       "      <td>0.000</td>\n",
       "      <td>0</td>\n",
       "      <td>drive</td>\n",
       "      <td>...</td>\n",
       "      <td>4.106655</td>\n",
       "      <td>-0.023314</td>\n",
       "      <td>-0.024449</td>\n",
       "      <td>4.708509</td>\n",
       "      <td>-0.027916</td>\n",
       "      <td>-0.026821</td>\n",
       "      <td>fff88cca5f8a012427b96bdde66011e3</td>\n",
       "      <td>220</td>\n",
       "      <td>6</td>\n",
       "      <td>0</td>\n",
       "    </tr>\n",
       "    <tr>\n",
       "      <th>43368</th>\n",
       "      <td>fff88cca5f8a012427b96bdde66011e3_320</td>\n",
       "      <td>-4.207162e-03</td>\n",
       "      <td>-3.783329e-02</td>\n",
       "      <td>-2.089301</td>\n",
       "      <td>0.0</td>\n",
       "      <td>0.0</td>\n",
       "      <td>1</td>\n",
       "      <td>0.000</td>\n",
       "      <td>0</td>\n",
       "      <td>drive</td>\n",
       "      <td>...</td>\n",
       "      <td>0.091362</td>\n",
       "      <td>-0.000041</td>\n",
       "      <td>-0.039632</td>\n",
       "      <td>0.106230</td>\n",
       "      <td>-0.001123</td>\n",
       "      <td>-0.047890</td>\n",
       "      <td>fff88cca5f8a012427b96bdde66011e3</td>\n",
       "      <td>320</td>\n",
       "      <td>6</td>\n",
       "      <td>0</td>\n",
       "    </tr>\n",
       "    <tr>\n",
       "      <th>43369</th>\n",
       "      <td>fff88cca5f8a012427b96bdde66011e3_420</td>\n",
       "      <td>-2.162400e-10</td>\n",
       "      <td>-1.943228e-09</td>\n",
       "      <td>-2.170106</td>\n",
       "      <td>1.0</td>\n",
       "      <td>0.0</td>\n",
       "      <td>1</td>\n",
       "      <td>0.000</td>\n",
       "      <td>0</td>\n",
       "      <td>drive</td>\n",
       "      <td>...</td>\n",
       "      <td>0.054023</td>\n",
       "      <td>-0.005685</td>\n",
       "      <td>-0.020612</td>\n",
       "      <td>0.067738</td>\n",
       "      <td>-0.008169</td>\n",
       "      <td>-0.026279</td>\n",
       "      <td>fff88cca5f8a012427b96bdde66011e3</td>\n",
       "      <td>420</td>\n",
       "      <td>6</td>\n",
       "      <td>0</td>\n",
       "    </tr>\n",
       "    <tr>\n",
       "      <th>43370</th>\n",
       "      <td>fff88cca5f8a012427b96bdde66011e3_520</td>\n",
       "      <td>-1.110231e-17</td>\n",
       "      <td>-9.977031e-17</td>\n",
       "      <td>-2.244450</td>\n",
       "      <td>1.0</td>\n",
       "      <td>0.0</td>\n",
       "      <td>1</td>\n",
       "      <td>0.000</td>\n",
       "      <td>0</td>\n",
       "      <td>drive</td>\n",
       "      <td>...</td>\n",
       "      <td>0.049354</td>\n",
       "      <td>-0.008518</td>\n",
       "      <td>-0.010334</td>\n",
       "      <td>0.060503</td>\n",
       "      <td>-0.010497</td>\n",
       "      <td>-0.011979</td>\n",
       "      <td>fff88cca5f8a012427b96bdde66011e3</td>\n",
       "      <td>520</td>\n",
       "      <td>6</td>\n",
       "      <td>0</td>\n",
       "    </tr>\n",
       "  </tbody>\n",
       "</table>\n",
       "<p>43371 rows × 34 columns</p>\n",
       "</div>"
      ],
      "text/plain": [
       "                                         ID          vEgo          aEgo  \\\n",
       "0      00066be8e20318869c38c66be466631a_320  5.701526e+00  1.538456e+00   \n",
       "1      00066be8e20318869c38c66be466631a_420  1.117629e+01  2.798807e-01   \n",
       "2      00066be8e20318869c38c66be466631a_520  1.047255e+01  2.310992e-01   \n",
       "3      000fb056f97572d384bae4f5fc1e0f28_120  6.055565e+00 -1.177754e-01   \n",
       "4       000fb056f97572d384bae4f5fc1e0f28_20  3.316744e+00  1.276733e+00   \n",
       "...                                     ...           ...           ...   \n",
       "43366   fff88cca5f8a012427b96bdde66011e3_20 -0.000000e+00 -0.000000e+00   \n",
       "43367  fff88cca5f8a012427b96bdde66011e3_220  1.594968e+00  3.501294e-01   \n",
       "43368  fff88cca5f8a012427b96bdde66011e3_320 -4.207162e-03 -3.783329e-02   \n",
       "43369  fff88cca5f8a012427b96bdde66011e3_420 -2.162400e-10 -1.943228e-09   \n",
       "43370  fff88cca5f8a012427b96bdde66011e3_520 -1.110231e-17 -9.977031e-17   \n",
       "\n",
       "       steeringAngleDeg  steeringTorque  brake  brakePressed    gas  \\\n",
       "0             -2.165777          -139.0    0.0             0  0.250   \n",
       "1            -11.625697           -44.0    0.0             0  0.000   \n",
       "2             -2.985105          -132.0    0.0             0  0.180   \n",
       "3              7.632668           173.0    0.0             0  0.000   \n",
       "4            -31.725477          -114.0    0.0             0  0.255   \n",
       "...                 ...             ...    ...           ...    ...   \n",
       "43366         16.102747            -1.0    0.0             1  0.000   \n",
       "43367         -5.791823           -97.0    0.0             0  0.000   \n",
       "43368         -2.089301             0.0    0.0             1  0.000   \n",
       "43369         -2.170106             1.0    0.0             1  0.000   \n",
       "43370         -2.244450             1.0    0.0             1  0.000   \n",
       "\n",
       "       gasPressed gearShifter  ...        x_4       y_4       z_4        x_5  \\\n",
       "0               1       drive  ...  17.574227  0.174289  0.406331  21.951269   \n",
       "1               0       drive  ...  26.316489  0.843124  0.065000  31.383814   \n",
       "2               1       drive  ...  25.677387 -0.576985  0.102859  30.460033   \n",
       "3               0       drive  ...  15.703514  0.960717  0.043479  19.311182   \n",
       "4               1       drive  ...  11.619313 -0.554488  0.011393  14.657048   \n",
       "...           ...         ...  ...        ...       ...       ...        ...   \n",
       "43366           0       drive  ...   0.034200  0.012502 -0.040583   0.043196   \n",
       "43367           0       drive  ...   4.106655 -0.023314 -0.024449   4.708509   \n",
       "43368           0       drive  ...   0.091362 -0.000041 -0.039632   0.106230   \n",
       "43369           0       drive  ...   0.054023 -0.005685 -0.020612   0.067738   \n",
       "43370           0       drive  ...   0.049354 -0.008518 -0.010334   0.060503   \n",
       "\n",
       "            y_5       z_5                             scene  scene_sec  \\\n",
       "0      0.199503  0.485079  00066be8e20318869c38c66be466631a        320   \n",
       "1      1.425070  0.073083  00066be8e20318869c38c66be466631a        420   \n",
       "2     -0.841894  0.152889  00066be8e20318869c38c66be466631a        520   \n",
       "3      1.374655  0.058754  000fb056f97572d384bae4f5fc1e0f28        120   \n",
       "4     -0.778800  0.044243  000fb056f97572d384bae4f5fc1e0f28         20   \n",
       "...         ...       ...                               ...        ...   \n",
       "43366  0.015644 -0.051309  fff88cca5f8a012427b96bdde66011e3         20   \n",
       "43367 -0.027916 -0.026821  fff88cca5f8a012427b96bdde66011e3        220   \n",
       "43368 -0.001123 -0.047890  fff88cca5f8a012427b96bdde66011e3        320   \n",
       "43369 -0.008169 -0.026279  fff88cca5f8a012427b96bdde66011e3        420   \n",
       "43370 -0.010497 -0.011979  fff88cca5f8a012427b96bdde66011e3        520   \n",
       "\n",
       "       scene_count  traffic_lights_counts  \n",
       "0                3                      0  \n",
       "1                3                      0  \n",
       "2                3                      0  \n",
       "3                6                      0  \n",
       "4                6                      1  \n",
       "...            ...                    ...  \n",
       "43366            6                      0  \n",
       "43367            6                      0  \n",
       "43368            6                      0  \n",
       "43369            6                      0  \n",
       "43370            6                      0  \n",
       "\n",
       "[43371 rows x 34 columns]"
      ]
     },
     "execution_count": 16,
     "metadata": {},
     "output_type": "execute_result"
    }
   ],
   "source": [
    "train_df"
   ]
  },
  {
   "cell_type": "code",
   "execution_count": 19,
   "id": "c3eab027",
   "metadata": {
    "scrolled": true
   },
   "outputs": [
    {
     "name": "stdout",
     "output_type": "stream",
     "text": [
      "['exp0000_x_0', 'exp0000_y_0', 'exp0000_z_0', 'exp0000_x_1', 'exp0000_y_1', 'exp0000_z_1', 'exp0000_x_2', 'exp0000_y_2', 'exp0000_z_2', 'exp0000_x_3', 'exp0000_y_3', 'exp0000_z_3', 'exp0000_x_4', 'exp0000_y_4', 'exp0000_z_4', 'exp0000_x_5', 'exp0000_y_5', 'exp0000_z_5']\n",
      "1.0\n"
     ]
    }
   ],
   "source": [
    "oof_exp_names = ['exp0000']\n",
    "oof_feat_cols = []\n",
    "\n",
    "for oof_exp_name in oof_exp_names:\n",
    "    _oof_feat_cols  = [f'{oof_exp_name}_{c}' for c in target_col]   \n",
    "\n",
    "    path = OUTPUT_DIR / 'exp' / oof_exp_name / 'oof.csv'\n",
    "    cnn_train_df = pd.read_csv(path, index_col=0)\n",
    "    # sort\n",
    "    cnn_train_df.sort_values(by='ID', inplace=True)\n",
    "    pred_cols = [f'pred_{i}' for i in target_col]\n",
    "\n",
    "    train_df[_oof_feat_cols] = cnn_train_df[pred_cols]\n",
    "    print(_oof_feat_cols)\n",
    "    print((train_df['ID'] == cnn_train_df['ID']).sum() / len(train_df))\n",
    "    \n",
    "    submit_path = OUTPUT_DIR / 'exp' / oof_exp_name / 'submission.csv'\n",
    "    cnn_test_df = pd.read_csv(submit_path)\n",
    "\n",
    "    test_df[_oof_feat_cols] = cnn_test_df[target_col]\n",
    "\n",
    "    oof_feat_cols.extend(_oof_feat_cols)   "
   ]
  },
  {
   "cell_type": "code",
   "execution_count": 20,
   "id": "8240e2f3",
   "metadata": {},
   "outputs": [],
   "source": [
    "def make_shift_feature(target_df, use_feat_cols):\n",
    "    shift_count = 1\n",
    "    shift_range = list(range(-shift_count, shift_count+1))\n",
    "    shift_range = [x for x in shift_range if x != 0]\n",
    "\n",
    "    target_df['ori_idx'] = target_df.index\n",
    "\n",
    "    target_df = target_df.sort_values(['scene', 'scene_sec']).reset_index(drop=True)\n",
    "\n",
    "    shift_feat_cols = []\n",
    "    for shift in shift_range:\n",
    "        for col in use_feat_cols:\n",
    "            shift_col = f'{col}_shift{shift}'\n",
    "            target_df[shift_col] = target_df.groupby('scene')[col].shift(shift)\n",
    "            shift_feat_cols.append(shift_col)\n",
    "\n",
    "            diff_col = f'{col}_diff{shift}'\n",
    "            target_df[diff_col] = target_df[col] - target_df[shift_col]\n",
    "            shift_feat_cols.append(diff_col)\n",
    "\n",
    "    target_df = target_df.sort_values('ori_idx').reset_index(drop=True)\n",
    "    target_df = target_df.drop('ori_idx', axis=1)\n",
    "\n",
    "    return target_df, shift_feat_cols"
   ]
  },
  {
   "cell_type": "code",
   "execution_count": 21,
   "id": "3f3c364f",
   "metadata": {},
   "outputs": [],
   "source": [
    "use_cols = ['vEgo', 'aEgo', 'steeringAngleDeg', 'steeringTorque', 'brake',\n",
    "       'brakePressed', 'gas', 'gasPressed',  'leftBlinker',\n",
    "       'rightBlinker']\n",
    "\n",
    "train_df, shift_feat_cols = make_shift_feature(train_df, use_cols)\n",
    "test_df, shift_feat_cols = make_shift_feature(test_df, use_cols)"
   ]
  },
  {
   "cell_type": "code",
   "execution_count": 22,
   "id": "e0747920",
   "metadata": {
    "scrolled": true
   },
   "outputs": [
    {
     "data": {
      "text/html": [
       "<div>\n",
       "<style scoped>\n",
       "    .dataframe tbody tr th:only-of-type {\n",
       "        vertical-align: middle;\n",
       "    }\n",
       "\n",
       "    .dataframe tbody tr th {\n",
       "        vertical-align: top;\n",
       "    }\n",
       "\n",
       "    .dataframe thead th {\n",
       "        text-align: right;\n",
       "    }\n",
       "</style>\n",
       "<table border=\"1\" class=\"dataframe\">\n",
       "  <thead>\n",
       "    <tr style=\"text-align: right;\">\n",
       "      <th></th>\n",
       "      <th>ID</th>\n",
       "      <th>vEgo</th>\n",
       "      <th>vEgo_shift-1</th>\n",
       "      <th>vEgo_diff-1</th>\n",
       "      <th>vEgo_shift1</th>\n",
       "      <th>vEgo_diff1</th>\n",
       "    </tr>\n",
       "  </thead>\n",
       "  <tbody>\n",
       "    <tr>\n",
       "      <th>0</th>\n",
       "      <td>00066be8e20318869c38c66be466631a_320</td>\n",
       "      <td>5.701526e+00</td>\n",
       "      <td>1.117629e+01</td>\n",
       "      <td>-5.474767e+00</td>\n",
       "      <td>NaN</td>\n",
       "      <td>NaN</td>\n",
       "    </tr>\n",
       "    <tr>\n",
       "      <th>1</th>\n",
       "      <td>00066be8e20318869c38c66be466631a_420</td>\n",
       "      <td>1.117629e+01</td>\n",
       "      <td>1.047255e+01</td>\n",
       "      <td>7.037439e-01</td>\n",
       "      <td>5.701526e+00</td>\n",
       "      <td>5.474767e+00</td>\n",
       "    </tr>\n",
       "    <tr>\n",
       "      <th>2</th>\n",
       "      <td>00066be8e20318869c38c66be466631a_520</td>\n",
       "      <td>1.047255e+01</td>\n",
       "      <td>NaN</td>\n",
       "      <td>NaN</td>\n",
       "      <td>1.117629e+01</td>\n",
       "      <td>-7.037439e-01</td>\n",
       "    </tr>\n",
       "    <tr>\n",
       "      <th>3</th>\n",
       "      <td>000fb056f97572d384bae4f5fc1e0f28_120</td>\n",
       "      <td>6.055565e+00</td>\n",
       "      <td>8.214018e+00</td>\n",
       "      <td>-2.158453e+00</td>\n",
       "      <td>3.316744e+00</td>\n",
       "      <td>2.738821e+00</td>\n",
       "    </tr>\n",
       "    <tr>\n",
       "      <th>4</th>\n",
       "      <td>000fb056f97572d384bae4f5fc1e0f28_20</td>\n",
       "      <td>3.316744e+00</td>\n",
       "      <td>6.055565e+00</td>\n",
       "      <td>-2.738821e+00</td>\n",
       "      <td>NaN</td>\n",
       "      <td>NaN</td>\n",
       "    </tr>\n",
       "    <tr>\n",
       "      <th>...</th>\n",
       "      <td>...</td>\n",
       "      <td>...</td>\n",
       "      <td>...</td>\n",
       "      <td>...</td>\n",
       "      <td>...</td>\n",
       "      <td>...</td>\n",
       "    </tr>\n",
       "    <tr>\n",
       "      <th>43366</th>\n",
       "      <td>fff88cca5f8a012427b96bdde66011e3_20</td>\n",
       "      <td>-0.000000e+00</td>\n",
       "      <td>-0.000000e+00</td>\n",
       "      <td>0.000000e+00</td>\n",
       "      <td>NaN</td>\n",
       "      <td>NaN</td>\n",
       "    </tr>\n",
       "    <tr>\n",
       "      <th>43367</th>\n",
       "      <td>fff88cca5f8a012427b96bdde66011e3_220</td>\n",
       "      <td>1.594968e+00</td>\n",
       "      <td>-4.207162e-03</td>\n",
       "      <td>1.599175e+00</td>\n",
       "      <td>-0.000000e+00</td>\n",
       "      <td>1.594968e+00</td>\n",
       "    </tr>\n",
       "    <tr>\n",
       "      <th>43368</th>\n",
       "      <td>fff88cca5f8a012427b96bdde66011e3_320</td>\n",
       "      <td>-4.207162e-03</td>\n",
       "      <td>-2.162400e-10</td>\n",
       "      <td>-4.207162e-03</td>\n",
       "      <td>1.594968e+00</td>\n",
       "      <td>-1.599175e+00</td>\n",
       "    </tr>\n",
       "    <tr>\n",
       "      <th>43369</th>\n",
       "      <td>fff88cca5f8a012427b96bdde66011e3_420</td>\n",
       "      <td>-2.162400e-10</td>\n",
       "      <td>-1.110231e-17</td>\n",
       "      <td>-2.162400e-10</td>\n",
       "      <td>-4.207162e-03</td>\n",
       "      <td>4.207162e-03</td>\n",
       "    </tr>\n",
       "    <tr>\n",
       "      <th>43370</th>\n",
       "      <td>fff88cca5f8a012427b96bdde66011e3_520</td>\n",
       "      <td>-1.110231e-17</td>\n",
       "      <td>NaN</td>\n",
       "      <td>NaN</td>\n",
       "      <td>-2.162400e-10</td>\n",
       "      <td>2.162400e-10</td>\n",
       "    </tr>\n",
       "  </tbody>\n",
       "</table>\n",
       "<p>43371 rows × 6 columns</p>\n",
       "</div>"
      ],
      "text/plain": [
       "                                         ID          vEgo  vEgo_shift-1  \\\n",
       "0      00066be8e20318869c38c66be466631a_320  5.701526e+00  1.117629e+01   \n",
       "1      00066be8e20318869c38c66be466631a_420  1.117629e+01  1.047255e+01   \n",
       "2      00066be8e20318869c38c66be466631a_520  1.047255e+01           NaN   \n",
       "3      000fb056f97572d384bae4f5fc1e0f28_120  6.055565e+00  8.214018e+00   \n",
       "4       000fb056f97572d384bae4f5fc1e0f28_20  3.316744e+00  6.055565e+00   \n",
       "...                                     ...           ...           ...   \n",
       "43366   fff88cca5f8a012427b96bdde66011e3_20 -0.000000e+00 -0.000000e+00   \n",
       "43367  fff88cca5f8a012427b96bdde66011e3_220  1.594968e+00 -4.207162e-03   \n",
       "43368  fff88cca5f8a012427b96bdde66011e3_320 -4.207162e-03 -2.162400e-10   \n",
       "43369  fff88cca5f8a012427b96bdde66011e3_420 -2.162400e-10 -1.110231e-17   \n",
       "43370  fff88cca5f8a012427b96bdde66011e3_520 -1.110231e-17           NaN   \n",
       "\n",
       "        vEgo_diff-1   vEgo_shift1    vEgo_diff1  \n",
       "0     -5.474767e+00           NaN           NaN  \n",
       "1      7.037439e-01  5.701526e+00  5.474767e+00  \n",
       "2               NaN  1.117629e+01 -7.037439e-01  \n",
       "3     -2.158453e+00  3.316744e+00  2.738821e+00  \n",
       "4     -2.738821e+00           NaN           NaN  \n",
       "...             ...           ...           ...  \n",
       "43366  0.000000e+00           NaN           NaN  \n",
       "43367  1.599175e+00 -0.000000e+00  1.594968e+00  \n",
       "43368 -4.207162e-03  1.594968e+00 -1.599175e+00  \n",
       "43369 -2.162400e-10 -4.207162e-03  4.207162e-03  \n",
       "43370           NaN -2.162400e-10  2.162400e-10  \n",
       "\n",
       "[43371 rows x 6 columns]"
      ]
     },
     "execution_count": 22,
     "metadata": {},
     "output_type": "execute_result"
    }
   ],
   "source": [
    "check_columns = ['ID'] + [c for c in train_df.columns if re.search('^vEgo*', c)]\n",
    "train_df[check_columns]"
   ]
  },
  {
   "cell_type": "code",
   "execution_count": 23,
   "id": "8dfb6cb3",
   "metadata": {},
   "outputs": [
    {
     "data": {
      "text/plain": [
       "Index(['ID', 'vEgo', 'aEgo', 'steeringAngleDeg', 'steeringTorque', 'brake',\n",
       "       'brakePressed', 'gas', 'gasPressed', 'gearShifter', 'leftBlinker',\n",
       "       'rightBlinker', 'x_0', 'y_0', 'z_0', 'x_1', 'y_1', 'z_1', 'x_2', 'y_2',\n",
       "       'z_2', 'x_3', 'y_3', 'z_3', 'x_4', 'y_4', 'z_4', 'x_5', 'y_5', 'z_5',\n",
       "       'scene', 'scene_sec', 'scene_count', 'traffic_lights_counts',\n",
       "       'exp0000_x_0', 'exp0000_y_0', 'exp0000_z_0', 'exp0000_x_1',\n",
       "       'exp0000_y_1', 'exp0000_z_1', 'exp0000_x_2', 'exp0000_y_2',\n",
       "       'exp0000_z_2', 'exp0000_x_3', 'exp0000_y_3', 'exp0000_z_3',\n",
       "       'exp0000_x_4', 'exp0000_y_4', 'exp0000_z_4', 'exp0000_x_5',\n",
       "       'exp0000_y_5', 'exp0000_z_5', 'vEgo_shift-1', 'vEgo_diff-1',\n",
       "       'aEgo_shift-1', 'aEgo_diff-1', 'steeringAngleDeg_shift-1',\n",
       "       'steeringAngleDeg_diff-1', 'steeringTorque_shift-1',\n",
       "       'steeringTorque_diff-1', 'brake_shift-1', 'brake_diff-1',\n",
       "       'brakePressed_shift-1', 'brakePressed_diff-1', 'gas_shift-1',\n",
       "       'gas_diff-1', 'gasPressed_shift-1', 'gasPressed_diff-1',\n",
       "       'leftBlinker_shift-1', 'leftBlinker_diff-1', 'rightBlinker_shift-1',\n",
       "       'rightBlinker_diff-1', 'vEgo_shift1', 'vEgo_diff1', 'aEgo_shift1',\n",
       "       'aEgo_diff1', 'steeringAngleDeg_shift1', 'steeringAngleDeg_diff1',\n",
       "       'steeringTorque_shift1', 'steeringTorque_diff1', 'brake_shift1',\n",
       "       'brake_diff1', 'brakePressed_shift1', 'brakePressed_diff1',\n",
       "       'gas_shift1', 'gas_diff1', 'gasPressed_shift1', 'gasPressed_diff1',\n",
       "       'leftBlinker_shift1', 'leftBlinker_diff1', 'rightBlinker_shift1',\n",
       "       'rightBlinker_diff1'],\n",
       "      dtype='object')"
      ]
     },
     "execution_count": 23,
     "metadata": {},
     "output_type": "execute_result"
    }
   ],
   "source": [
    "train_df.columns"
   ]
  },
  {
   "cell_type": "code",
   "execution_count": null,
   "id": "2425d0b5",
   "metadata": {},
   "outputs": [],
   "source": [
    "from sklearn.preprocessing import LabelEncoder\n",
    "import pandas as pd\n",
    "from typing import List\n",
    "\n",
    "class AbstractBaseBlock:\n",
    "    \"\"\"\n",
    "    https://www.guruguru.science/competitions/16/discussions/95b7f8ec-a741-444f-933a-94c33b9e66be/\n",
    "    \"\"\"\n",
    "\n",
    "    def __init__(self) -> None:\n",
    "        pass\n",
    "\n",
    "    def fit(self, input_df: pd.DataFrame, y=None) -> pd.DataFrame:\n",
    "        # return self.transform(input_df)\n",
    "        raise NotImplementedError()\n",
    "\n",
    "    def transform(self, input_df: pd.DataFrame) -> pd.DataFrame:\n",
    "        raise NotImplementedError()\n",
    "\n",
    "\n",
    "def run_block(input_df: pd.DataFrame, blocks: List[AbstractBaseBlock], is_fit):\n",
    "    output_df = pd.DataFrame()\n",
    "    for block in blocks:\n",
    "        name = block.__class__.__name__\n",
    "\n",
    "        if is_fit:\n",
    "            # print(f'fit: {name}')\n",
    "            _df = block.fit(input_df)\n",
    "        else:\n",
    "            # print(f'transform: {name}')\n",
    "            _df = block.transform(input_df)\n",
    "\n",
    "        # print(f'concat: {name}')\n",
    "        output_df = pd.concat([output_df, _df], axis=1)\n",
    "    return output_df\n",
    "\n",
    "class NumericBlock(AbstractBaseBlock):\n",
    "    def __init__(self, col: str) -> None:\n",
    "        super().__init__()\n",
    "        self.col = col\n",
    "\n",
    "    def fit(self, input_df):\n",
    "        return self.transform(input_df)\n",
    "\n",
    "    def transform(self, input_df):\n",
    "        output_df = pd.DataFrame()\n",
    "        output_df[self.col] = input_df[self.col].copy()\n",
    "        return output_df\n",
    "\n",
    "class LabelEncodingBlock(AbstractBaseBlock):\n",
    "    def __init__(self, col: str) -> None:\n",
    "        super().__init__()\n",
    "        self.col = col\n",
    "        self.encoder = LabelEncoder()\n",
    "\n",
    "    def fit(self, input_df):\n",
    "        # return self.transform(input_df)\n",
    "\n",
    "        self.encoder.fit(input_df[self.col])\n",
    "        return self.transform(input_df)\n",
    "\n",
    "    def transform(self, input_df):\n",
    "        output_df = pd.DataFrame()\n",
    "\n",
    "        # output_df[self.col] = self.encoder.fit_transform(input_df[self.col])\n",
    "\n",
    "        # self.encoder.fit(input_df[self.col])\n",
    "        output_df[self.col] = self.encoder.transform(input_df[self.col])\n",
    "        return output_df.add_suffix('@le')\n",
    "\n",
    "class CountEncodingBlock(AbstractBaseBlock):\n",
    "    def __init__(self, col: str) -> None:\n",
    "        super().__init__()\n",
    "        self.col = col\n",
    "\n",
    "    def fit(self, input_df):\n",
    "        self.val_count_dict = {}\n",
    "        self.val_count = input_df[self.col].value_counts()\n",
    "        return self.transform(input_df)\n",
    "\n",
    "    def transform(self, input_df):\n",
    "        output_df = pd.DataFrame()\n",
    "        output_df[self.col] = input_df[self.col].map(self.val_count)\n",
    "        return output_df.add_suffix('@ce')"
   ]
  },
  {
   "cell_type": "code",
   "execution_count": 25,
   "id": "3b91625a",
   "metadata": {},
   "outputs": [
    {
     "name": "stdout",
     "output_type": "stream",
     "text": [
      "use_col len 71\n"
     ]
    }
   ],
   "source": [
    "# ======= train_df, test_df 共通の処理 =======\n",
    "\n",
    "num_cols = ['vEgo', 'aEgo', 'steeringAngleDeg', 'steeringTorque', 'brake',\n",
    "       'brakePressed', 'gas', 'gasPressed',  'leftBlinker',\n",
    "       'rightBlinker']\n",
    "num_cols += ['scene_sec']\n",
    "num_cols += oof_feat_cols\n",
    "num_cols += shift_feat_cols\n",
    "num_cols += ['scene_count']\n",
    "\n",
    "agg_num_cols = ['vEgo', 'aEgo', 'steeringAngleDeg', 'steeringTorque', 'brake', 'gas']\n",
    "\n",
    "cat_label_cols = ['gearShifter']\n",
    "cat_count_cols = []\n",
    "cat_te_cols = []\n",
    "\n",
    "train_num = len(train_df)\n",
    "whole_df = pd.concat([train_df, test_df], axis=0, ignore_index=True)\n",
    "\n",
    "blocks = [\n",
    "    *[NumericBlock(col) for col in num_cols],\n",
    "    *[LabelEncodingBlock(col) for col in cat_label_cols],\n",
    "    *[CountEncodingBlock(col) for col in cat_count_cols],\n",
    "    # *[AggBlock(col, target_cols=agg_num_cols,\n",
    "    #            agg_cols=['mean', 'max', 'min', 'std']) for col in ['scene']],\n",
    "]\n",
    "whole_feat_df = run_block(whole_df, blocks, is_fit=True)\n",
    "\n",
    "\n",
    "# ======= train_df, test_df 別々に処理 =======\n",
    "\n",
    "train_df, test_df = whole_df.iloc[:train_num], whole_df.iloc[train_num:].drop(\n",
    "    columns=target_col).reset_index(drop=True)\n",
    "train_feat, test_feat = whole_feat_df.iloc[:train_num], whole_feat_df.iloc[train_num:].reset_index(\n",
    "    drop=True)\n",
    "\n",
    "blocks = [\n",
    "    *[TargetEncodingBlock(col, target_col) for col in cat_te_cols]\n",
    "]\n",
    "\n",
    "_df = run_block(train_df, blocks, is_fit=True)\n",
    "train_feat = pd.concat([train_feat, _df], axis=1)\n",
    "_df = run_block(test_df, blocks, is_fit=False)\n",
    "test_feat = pd.concat([test_feat, _df], axis=1)\n",
    "\n",
    "print('use_col len', len(train_feat.columns))"
   ]
  },
  {
   "cell_type": "code",
   "execution_count": 26,
   "id": "13606f09",
   "metadata": {
    "scrolled": true
   },
   "outputs": [
    {
     "data": {
      "text/plain": [
       "Index(['vEgo', 'aEgo', 'steeringAngleDeg', 'steeringTorque', 'brake',\n",
       "       'brakePressed', 'gas', 'gasPressed', 'leftBlinker', 'rightBlinker',\n",
       "       'scene_sec', 'exp0000_x_0', 'exp0000_y_0', 'exp0000_z_0', 'exp0000_x_1',\n",
       "       'exp0000_y_1', 'exp0000_z_1', 'exp0000_x_2', 'exp0000_y_2',\n",
       "       'exp0000_z_2', 'exp0000_x_3', 'exp0000_y_3', 'exp0000_z_3',\n",
       "       'exp0000_x_4', 'exp0000_y_4', 'exp0000_z_4', 'exp0000_x_5',\n",
       "       'exp0000_y_5', 'exp0000_z_5', 'vEgo_shift-1', 'vEgo_diff-1',\n",
       "       'aEgo_shift-1', 'aEgo_diff-1', 'steeringAngleDeg_shift-1',\n",
       "       'steeringAngleDeg_diff-1', 'steeringTorque_shift-1',\n",
       "       'steeringTorque_diff-1', 'brake_shift-1', 'brake_diff-1',\n",
       "       'brakePressed_shift-1', 'brakePressed_diff-1', 'gas_shift-1',\n",
       "       'gas_diff-1', 'gasPressed_shift-1', 'gasPressed_diff-1',\n",
       "       'leftBlinker_shift-1', 'leftBlinker_diff-1', 'rightBlinker_shift-1',\n",
       "       'rightBlinker_diff-1', 'vEgo_shift1', 'vEgo_diff1', 'aEgo_shift1',\n",
       "       'aEgo_diff1', 'steeringAngleDeg_shift1', 'steeringAngleDeg_diff1',\n",
       "       'steeringTorque_shift1', 'steeringTorque_diff1', 'brake_shift1',\n",
       "       'brake_diff1', 'brakePressed_shift1', 'brakePressed_diff1',\n",
       "       'gas_shift1', 'gas_diff1', 'gasPressed_shift1', 'gasPressed_diff1',\n",
       "       'leftBlinker_shift1', 'leftBlinker_diff1', 'rightBlinker_shift1',\n",
       "       'rightBlinker_diff1', 'scene_count', 'gearShifter@le'],\n",
       "      dtype='object')"
      ]
     },
     "execution_count": 26,
     "metadata": {},
     "output_type": "execute_result"
    }
   ],
   "source": [
    "train_feat.columns"
   ]
  },
  {
   "cell_type": "code",
   "execution_count": 27,
   "id": "96e196ce",
   "metadata": {},
   "outputs": [],
   "source": [
    "n_folds = 3\n",
    "def split_data(df):\n",
    "    scene_ser = df['ID'].apply(lambda x: x.split('_')[0])\n",
    "\n",
    "    group_kfold = GroupKFold(n_splits=n_folds)\n",
    "    for ifold, (train_index, valid_index) in enumerate(group_kfold.split(df, groups=scene_ser)):\n",
    "        df.loc[valid_index, 'fold'] = ifold\n",
    "    return df"
   ]
  },
  {
   "cell_type": "code",
   "execution_count": 28,
   "id": "40d871bd",
   "metadata": {},
   "outputs": [
    {
     "data": {
      "text/html": [
       "<div>\n",
       "<style scoped>\n",
       "    .dataframe tbody tr th:only-of-type {\n",
       "        vertical-align: middle;\n",
       "    }\n",
       "\n",
       "    .dataframe tbody tr th {\n",
       "        vertical-align: top;\n",
       "    }\n",
       "\n",
       "    .dataframe thead th {\n",
       "        text-align: right;\n",
       "    }\n",
       "</style>\n",
       "<table border=\"1\" class=\"dataframe\">\n",
       "  <thead>\n",
       "    <tr style=\"text-align: right;\">\n",
       "      <th></th>\n",
       "      <th>ID</th>\n",
       "      <th>vEgo</th>\n",
       "      <th>aEgo</th>\n",
       "      <th>steeringAngleDeg</th>\n",
       "      <th>steeringTorque</th>\n",
       "      <th>brake</th>\n",
       "      <th>brakePressed</th>\n",
       "      <th>gas</th>\n",
       "      <th>gasPressed</th>\n",
       "      <th>gearShifter</th>\n",
       "      <th>...</th>\n",
       "      <th>brakePressed_diff1</th>\n",
       "      <th>gas_shift1</th>\n",
       "      <th>gas_diff1</th>\n",
       "      <th>gasPressed_shift1</th>\n",
       "      <th>gasPressed_diff1</th>\n",
       "      <th>leftBlinker_shift1</th>\n",
       "      <th>leftBlinker_diff1</th>\n",
       "      <th>rightBlinker_shift1</th>\n",
       "      <th>rightBlinker_diff1</th>\n",
       "      <th>fold</th>\n",
       "    </tr>\n",
       "  </thead>\n",
       "  <tbody>\n",
       "    <tr>\n",
       "      <th>0</th>\n",
       "      <td>00066be8e20318869c38c66be466631a_320</td>\n",
       "      <td>5.701526e+00</td>\n",
       "      <td>1.538456e+00</td>\n",
       "      <td>-2.165777</td>\n",
       "      <td>-139.0</td>\n",
       "      <td>0.0</td>\n",
       "      <td>0</td>\n",
       "      <td>0.250</td>\n",
       "      <td>1</td>\n",
       "      <td>drive</td>\n",
       "      <td>...</td>\n",
       "      <td>NaN</td>\n",
       "      <td>NaN</td>\n",
       "      <td>NaN</td>\n",
       "      <td>NaN</td>\n",
       "      <td>NaN</td>\n",
       "      <td>NaN</td>\n",
       "      <td>NaN</td>\n",
       "      <td>NaN</td>\n",
       "      <td>NaN</td>\n",
       "      <td>2.0</td>\n",
       "    </tr>\n",
       "    <tr>\n",
       "      <th>1</th>\n",
       "      <td>00066be8e20318869c38c66be466631a_420</td>\n",
       "      <td>1.117629e+01</td>\n",
       "      <td>2.798807e-01</td>\n",
       "      <td>-11.625697</td>\n",
       "      <td>-44.0</td>\n",
       "      <td>0.0</td>\n",
       "      <td>0</td>\n",
       "      <td>0.000</td>\n",
       "      <td>0</td>\n",
       "      <td>drive</td>\n",
       "      <td>...</td>\n",
       "      <td>0.0</td>\n",
       "      <td>0.250</td>\n",
       "      <td>-0.250</td>\n",
       "      <td>1.0</td>\n",
       "      <td>-1.0</td>\n",
       "      <td>0.0</td>\n",
       "      <td>0.0</td>\n",
       "      <td>0.0</td>\n",
       "      <td>1.0</td>\n",
       "      <td>2.0</td>\n",
       "    </tr>\n",
       "    <tr>\n",
       "      <th>2</th>\n",
       "      <td>00066be8e20318869c38c66be466631a_520</td>\n",
       "      <td>1.047255e+01</td>\n",
       "      <td>2.310992e-01</td>\n",
       "      <td>-2.985105</td>\n",
       "      <td>-132.0</td>\n",
       "      <td>0.0</td>\n",
       "      <td>0</td>\n",
       "      <td>0.180</td>\n",
       "      <td>1</td>\n",
       "      <td>drive</td>\n",
       "      <td>...</td>\n",
       "      <td>0.0</td>\n",
       "      <td>0.000</td>\n",
       "      <td>0.180</td>\n",
       "      <td>0.0</td>\n",
       "      <td>1.0</td>\n",
       "      <td>0.0</td>\n",
       "      <td>0.0</td>\n",
       "      <td>1.0</td>\n",
       "      <td>-1.0</td>\n",
       "      <td>2.0</td>\n",
       "    </tr>\n",
       "    <tr>\n",
       "      <th>3</th>\n",
       "      <td>000fb056f97572d384bae4f5fc1e0f28_120</td>\n",
       "      <td>6.055565e+00</td>\n",
       "      <td>-1.177754e-01</td>\n",
       "      <td>7.632668</td>\n",
       "      <td>173.0</td>\n",
       "      <td>0.0</td>\n",
       "      <td>0</td>\n",
       "      <td>0.000</td>\n",
       "      <td>0</td>\n",
       "      <td>drive</td>\n",
       "      <td>...</td>\n",
       "      <td>0.0</td>\n",
       "      <td>0.255</td>\n",
       "      <td>-0.255</td>\n",
       "      <td>1.0</td>\n",
       "      <td>-1.0</td>\n",
       "      <td>0.0</td>\n",
       "      <td>0.0</td>\n",
       "      <td>0.0</td>\n",
       "      <td>0.0</td>\n",
       "      <td>2.0</td>\n",
       "    </tr>\n",
       "    <tr>\n",
       "      <th>4</th>\n",
       "      <td>000fb056f97572d384bae4f5fc1e0f28_20</td>\n",
       "      <td>3.316744e+00</td>\n",
       "      <td>1.276733e+00</td>\n",
       "      <td>-31.725477</td>\n",
       "      <td>-114.0</td>\n",
       "      <td>0.0</td>\n",
       "      <td>0</td>\n",
       "      <td>0.255</td>\n",
       "      <td>1</td>\n",
       "      <td>drive</td>\n",
       "      <td>...</td>\n",
       "      <td>NaN</td>\n",
       "      <td>NaN</td>\n",
       "      <td>NaN</td>\n",
       "      <td>NaN</td>\n",
       "      <td>NaN</td>\n",
       "      <td>NaN</td>\n",
       "      <td>NaN</td>\n",
       "      <td>NaN</td>\n",
       "      <td>NaN</td>\n",
       "      <td>2.0</td>\n",
       "    </tr>\n",
       "    <tr>\n",
       "      <th>...</th>\n",
       "      <td>...</td>\n",
       "      <td>...</td>\n",
       "      <td>...</td>\n",
       "      <td>...</td>\n",
       "      <td>...</td>\n",
       "      <td>...</td>\n",
       "      <td>...</td>\n",
       "      <td>...</td>\n",
       "      <td>...</td>\n",
       "      <td>...</td>\n",
       "      <td>...</td>\n",
       "      <td>...</td>\n",
       "      <td>...</td>\n",
       "      <td>...</td>\n",
       "      <td>...</td>\n",
       "      <td>...</td>\n",
       "      <td>...</td>\n",
       "      <td>...</td>\n",
       "      <td>...</td>\n",
       "      <td>...</td>\n",
       "      <td>...</td>\n",
       "    </tr>\n",
       "    <tr>\n",
       "      <th>43366</th>\n",
       "      <td>fff88cca5f8a012427b96bdde66011e3_20</td>\n",
       "      <td>-0.000000e+00</td>\n",
       "      <td>-0.000000e+00</td>\n",
       "      <td>16.102747</td>\n",
       "      <td>-1.0</td>\n",
       "      <td>0.0</td>\n",
       "      <td>1</td>\n",
       "      <td>0.000</td>\n",
       "      <td>0</td>\n",
       "      <td>drive</td>\n",
       "      <td>...</td>\n",
       "      <td>NaN</td>\n",
       "      <td>NaN</td>\n",
       "      <td>NaN</td>\n",
       "      <td>NaN</td>\n",
       "      <td>NaN</td>\n",
       "      <td>NaN</td>\n",
       "      <td>NaN</td>\n",
       "      <td>NaN</td>\n",
       "      <td>NaN</td>\n",
       "      <td>0.0</td>\n",
       "    </tr>\n",
       "    <tr>\n",
       "      <th>43367</th>\n",
       "      <td>fff88cca5f8a012427b96bdde66011e3_220</td>\n",
       "      <td>1.594968e+00</td>\n",
       "      <td>3.501294e-01</td>\n",
       "      <td>-5.791823</td>\n",
       "      <td>-97.0</td>\n",
       "      <td>0.0</td>\n",
       "      <td>0</td>\n",
       "      <td>0.000</td>\n",
       "      <td>0</td>\n",
       "      <td>drive</td>\n",
       "      <td>...</td>\n",
       "      <td>-1.0</td>\n",
       "      <td>0.000</td>\n",
       "      <td>0.000</td>\n",
       "      <td>0.0</td>\n",
       "      <td>0.0</td>\n",
       "      <td>0.0</td>\n",
       "      <td>0.0</td>\n",
       "      <td>1.0</td>\n",
       "      <td>0.0</td>\n",
       "      <td>0.0</td>\n",
       "    </tr>\n",
       "    <tr>\n",
       "      <th>43368</th>\n",
       "      <td>fff88cca5f8a012427b96bdde66011e3_320</td>\n",
       "      <td>-4.207162e-03</td>\n",
       "      <td>-3.783329e-02</td>\n",
       "      <td>-2.089301</td>\n",
       "      <td>0.0</td>\n",
       "      <td>0.0</td>\n",
       "      <td>1</td>\n",
       "      <td>0.000</td>\n",
       "      <td>0</td>\n",
       "      <td>drive</td>\n",
       "      <td>...</td>\n",
       "      <td>1.0</td>\n",
       "      <td>0.000</td>\n",
       "      <td>0.000</td>\n",
       "      <td>0.0</td>\n",
       "      <td>0.0</td>\n",
       "      <td>0.0</td>\n",
       "      <td>0.0</td>\n",
       "      <td>1.0</td>\n",
       "      <td>0.0</td>\n",
       "      <td>0.0</td>\n",
       "    </tr>\n",
       "    <tr>\n",
       "      <th>43369</th>\n",
       "      <td>fff88cca5f8a012427b96bdde66011e3_420</td>\n",
       "      <td>-2.162400e-10</td>\n",
       "      <td>-1.943228e-09</td>\n",
       "      <td>-2.170106</td>\n",
       "      <td>1.0</td>\n",
       "      <td>0.0</td>\n",
       "      <td>1</td>\n",
       "      <td>0.000</td>\n",
       "      <td>0</td>\n",
       "      <td>drive</td>\n",
       "      <td>...</td>\n",
       "      <td>0.0</td>\n",
       "      <td>0.000</td>\n",
       "      <td>0.000</td>\n",
       "      <td>0.0</td>\n",
       "      <td>0.0</td>\n",
       "      <td>0.0</td>\n",
       "      <td>0.0</td>\n",
       "      <td>1.0</td>\n",
       "      <td>0.0</td>\n",
       "      <td>0.0</td>\n",
       "    </tr>\n",
       "    <tr>\n",
       "      <th>43370</th>\n",
       "      <td>fff88cca5f8a012427b96bdde66011e3_520</td>\n",
       "      <td>-1.110231e-17</td>\n",
       "      <td>-9.977031e-17</td>\n",
       "      <td>-2.244450</td>\n",
       "      <td>1.0</td>\n",
       "      <td>0.0</td>\n",
       "      <td>1</td>\n",
       "      <td>0.000</td>\n",
       "      <td>0</td>\n",
       "      <td>drive</td>\n",
       "      <td>...</td>\n",
       "      <td>0.0</td>\n",
       "      <td>0.000</td>\n",
       "      <td>0.000</td>\n",
       "      <td>0.0</td>\n",
       "      <td>0.0</td>\n",
       "      <td>0.0</td>\n",
       "      <td>0.0</td>\n",
       "      <td>1.0</td>\n",
       "      <td>0.0</td>\n",
       "      <td>0.0</td>\n",
       "    </tr>\n",
       "  </tbody>\n",
       "</table>\n",
       "<p>43371 rows × 93 columns</p>\n",
       "</div>"
      ],
      "text/plain": [
       "                                         ID          vEgo          aEgo  \\\n",
       "0      00066be8e20318869c38c66be466631a_320  5.701526e+00  1.538456e+00   \n",
       "1      00066be8e20318869c38c66be466631a_420  1.117629e+01  2.798807e-01   \n",
       "2      00066be8e20318869c38c66be466631a_520  1.047255e+01  2.310992e-01   \n",
       "3      000fb056f97572d384bae4f5fc1e0f28_120  6.055565e+00 -1.177754e-01   \n",
       "4       000fb056f97572d384bae4f5fc1e0f28_20  3.316744e+00  1.276733e+00   \n",
       "...                                     ...           ...           ...   \n",
       "43366   fff88cca5f8a012427b96bdde66011e3_20 -0.000000e+00 -0.000000e+00   \n",
       "43367  fff88cca5f8a012427b96bdde66011e3_220  1.594968e+00  3.501294e-01   \n",
       "43368  fff88cca5f8a012427b96bdde66011e3_320 -4.207162e-03 -3.783329e-02   \n",
       "43369  fff88cca5f8a012427b96bdde66011e3_420 -2.162400e-10 -1.943228e-09   \n",
       "43370  fff88cca5f8a012427b96bdde66011e3_520 -1.110231e-17 -9.977031e-17   \n",
       "\n",
       "       steeringAngleDeg  steeringTorque  brake  brakePressed    gas  \\\n",
       "0             -2.165777          -139.0    0.0             0  0.250   \n",
       "1            -11.625697           -44.0    0.0             0  0.000   \n",
       "2             -2.985105          -132.0    0.0             0  0.180   \n",
       "3              7.632668           173.0    0.0             0  0.000   \n",
       "4            -31.725477          -114.0    0.0             0  0.255   \n",
       "...                 ...             ...    ...           ...    ...   \n",
       "43366         16.102747            -1.0    0.0             1  0.000   \n",
       "43367         -5.791823           -97.0    0.0             0  0.000   \n",
       "43368         -2.089301             0.0    0.0             1  0.000   \n",
       "43369         -2.170106             1.0    0.0             1  0.000   \n",
       "43370         -2.244450             1.0    0.0             1  0.000   \n",
       "\n",
       "       gasPressed gearShifter  ...  brakePressed_diff1  gas_shift1  gas_diff1  \\\n",
       "0               1       drive  ...                 NaN         NaN        NaN   \n",
       "1               0       drive  ...                 0.0       0.250     -0.250   \n",
       "2               1       drive  ...                 0.0       0.000      0.180   \n",
       "3               0       drive  ...                 0.0       0.255     -0.255   \n",
       "4               1       drive  ...                 NaN         NaN        NaN   \n",
       "...           ...         ...  ...                 ...         ...        ...   \n",
       "43366           0       drive  ...                 NaN         NaN        NaN   \n",
       "43367           0       drive  ...                -1.0       0.000      0.000   \n",
       "43368           0       drive  ...                 1.0       0.000      0.000   \n",
       "43369           0       drive  ...                 0.0       0.000      0.000   \n",
       "43370           0       drive  ...                 0.0       0.000      0.000   \n",
       "\n",
       "       gasPressed_shift1  gasPressed_diff1  leftBlinker_shift1  \\\n",
       "0                    NaN               NaN                 NaN   \n",
       "1                    1.0              -1.0                 0.0   \n",
       "2                    0.0               1.0                 0.0   \n",
       "3                    1.0              -1.0                 0.0   \n",
       "4                    NaN               NaN                 NaN   \n",
       "...                  ...               ...                 ...   \n",
       "43366                NaN               NaN                 NaN   \n",
       "43367                0.0               0.0                 0.0   \n",
       "43368                0.0               0.0                 0.0   \n",
       "43369                0.0               0.0                 0.0   \n",
       "43370                0.0               0.0                 0.0   \n",
       "\n",
       "       leftBlinker_diff1  rightBlinker_shift1  rightBlinker_diff1  fold  \n",
       "0                    NaN                  NaN                 NaN   2.0  \n",
       "1                    0.0                  0.0                 1.0   2.0  \n",
       "2                    0.0                  1.0                -1.0   2.0  \n",
       "3                    0.0                  0.0                 0.0   2.0  \n",
       "4                    NaN                  NaN                 NaN   2.0  \n",
       "...                  ...                  ...                 ...   ...  \n",
       "43366                NaN                  NaN                 NaN   0.0  \n",
       "43367                0.0                  1.0                 0.0   0.0  \n",
       "43368                0.0                  1.0                 0.0   0.0  \n",
       "43369                0.0                  1.0                 0.0   0.0  \n",
       "43370                0.0                  1.0                 0.0   0.0  \n",
       "\n",
       "[43371 rows x 93 columns]"
      ]
     },
     "execution_count": 28,
     "metadata": {},
     "output_type": "execute_result"
    }
   ],
   "source": [
    "split_data(train_df)"
   ]
  },
  {
   "cell_type": "code",
   "execution_count": 29,
   "id": "5c91216f",
   "metadata": {
    "scrolled": false
   },
   "outputs": [],
   "source": [
    "y = train_df[target_col]\n",
    "folds = train_df['fold']"
   ]
  },
  {
   "cell_type": "code",
   "execution_count": 30,
   "id": "d37c2d52",
   "metadata": {},
   "outputs": [
    {
     "data": {
      "text/plain": [
       "((43371, 71), (1727, 71))"
      ]
     },
     "execution_count": 30,
     "metadata": {},
     "output_type": "execute_result"
    }
   ],
   "source": [
    "train_feat.shape, test_feat.shape"
   ]
  },
  {
   "cell_type": "code",
   "execution_count": 31,
   "id": "a6c86d32",
   "metadata": {},
   "outputs": [],
   "source": [
    "import lightgbm as lgb\n",
    "\n",
    "class LightGBM:\n",
    "\n",
    "    def __init__(self, lgb_params, save_dir=None, imp_dir=None, categorical_feature=None,\n",
    "                 model_name='lgb',\n",
    "                 stopping_rounds=50) -> None:\n",
    "        self.save_dir = save_dir\n",
    "        self.imp_dir = imp_dir\n",
    "        self.lgb_params = lgb_params\n",
    "        self.categorical_feature = categorical_feature\n",
    "\n",
    "        # saveの切り替え用\n",
    "        self.model_name = model_name\n",
    "\n",
    "        self.stopping_rounds = stopping_rounds\n",
    "\n",
    "    def fit(self, x_train, y_train, **fit_params) -> None:\n",
    "\n",
    "        X_val, y_val = fit_params['eval_set'][0]\n",
    "        del fit_params['eval_set']\n",
    "\n",
    "        train_dataset = lgb.Dataset(\n",
    "            x_train, y_train, categorical_feature=self.categorical_feature)\n",
    "\n",
    "        val_dataset = lgb.Dataset(\n",
    "            X_val, y_val, categorical_feature=self.categorical_feature)\n",
    "\n",
    "        self.model = lgb.train(params=self.lgb_params,\n",
    "                               train_set=train_dataset,\n",
    "                               valid_sets=[train_dataset, val_dataset],\n",
    "                               callbacks=[lgb.early_stopping(stopping_rounds=self.stopping_rounds,\n",
    "                                                             verbose=True),\n",
    "                                          lgb.log_evaluation(500)],\n",
    "                               **fit_params\n",
    "                               )\n",
    "\n",
    "    def save(self, fold):\n",
    "        save_to = f'{self.save_dir}lgb_fold_{fold}_{self.model_name}.txt'\n",
    "        self.model.save_model(save_to)\n",
    "\n",
    "    def predict(self, x):\n",
    "        return self.model.predict(x)\n",
    "\n",
    "    def predict_proba(self, x):\n",
    "        return self.model.predict_proba(x)\n",
    "\n",
    "def get_model(model_name):\n",
    "    lgb_params = {\n",
    "        'objective': 'regression',\n",
    "        'boosting_type': 'gbdt',\n",
    "        'verbose': -1,\n",
    "        'n_jobs': 8,\n",
    "        'seed': seed,\n",
    "        'learning_rate': 0.01,\n",
    "        # 'num_class': CFG.num_class, # multiclassなら必要\n",
    "        'metric': 'mae',\n",
    "        'num_leaves': 64,\n",
    "        'max_depth': 5,\n",
    "        'bagging_seed': seed,\n",
    "        'feature_fraction_seed': seed,\n",
    "        'drop_seed': seed,\n",
    "    }\n",
    "    model = LightGBM(\n",
    "                lgb_params=lgb_params,\n",
    "                imp_dir=OUTPUT_DIR,\n",
    "                save_dir=OUTPUT_DIR,\n",
    "                model_name=model_name\n",
    "    )\n",
    "\n",
    "    return model\n",
    "\n",
    "def get_fit_params(model_name):\n",
    "    params = {\n",
    "        'num_boost_round': 100000\n",
    "    }\n",
    "\n",
    "    return params"
   ]
  },
  {
   "cell_type": "code",
   "execution_count": 32,
   "id": "b78b9514",
   "metadata": {},
   "outputs": [
    {
     "name": "stdout",
     "output_type": "stream",
     "text": [
      "target 0\n"
     ]
    },
    {
     "name": "stderr",
     "output_type": "stream",
     "text": [
      "\r\n",
      "  0% 0/3 [00:00<?, ?it/s]"
     ]
    },
    {
     "name": "stdout",
     "output_type": "stream",
     "text": [
      "Training fold 1\n",
      "Training until validation scores don't improve for 50 rounds\n",
      "[500]\ttraining's l1: 0.0645992\tvalid_1's l1: 0.0670017\n"
     ]
    },
    {
     "name": "stderr",
     "output_type": "stream",
     "text": [
      "\r\n",
      " 33% 1/3 [00:02<00:04,  2.13s/it]"
     ]
    },
    {
     "name": "stdout",
     "output_type": "stream",
     "text": [
      "Early stopping, best iteration is:\n",
      "[801]\ttraining's l1: 0.0594191\tvalid_1's l1: 0.0635375\n",
      "Training fold 2\n",
      "Training until validation scores don't improve for 50 rounds\n",
      "[500]\ttraining's l1: 0.0646191\tvalid_1's l1: 0.0672477\n"
     ]
    },
    {
     "name": "stderr",
     "output_type": "stream",
     "text": [
      "\r\n",
      " 67% 2/3 [00:04<00:02,  2.12s/it]"
     ]
    },
    {
     "name": "stdout",
     "output_type": "stream",
     "text": [
      "Early stopping, best iteration is:\n",
      "[791]\ttraining's l1: 0.0596658\tvalid_1's l1: 0.0632534\n",
      "Training fold 3\n",
      "Training until validation scores don't improve for 50 rounds\n",
      "[500]\ttraining's l1: 0.064756\tvalid_1's l1: 0.0674704\n"
     ]
    },
    {
     "name": "stderr",
     "output_type": "stream",
     "text": [
      "100% 3/3 [00:06<00:00,  2.08s/it]\n"
     ]
    },
    {
     "name": "stdout",
     "output_type": "stream",
     "text": [
      "Early stopping, best iteration is:\n",
      "[738]\ttraining's l1: 0.0598765\tvalid_1's l1: 0.0641148\n",
      "target 1\n"
     ]
    },
    {
     "name": "stderr",
     "output_type": "stream",
     "text": [
      "\r\n",
      "  0% 0/3 [00:00<?, ?it/s]"
     ]
    },
    {
     "name": "stdout",
     "output_type": "stream",
     "text": [
      "Training fold 1\n",
      "Training until validation scores don't improve for 50 rounds\n",
      "[500]\ttraining's l1: 0.0309196\tvalid_1's l1: 0.0339182\n",
      "[1000]\ttraining's l1: 0.0298136\tvalid_1's l1: 0.0336938\n",
      "[1500]\ttraining's l1: 0.0289918\tvalid_1's l1: 0.0336005\n",
      "[2000]\ttraining's l1: 0.0283583\tvalid_1's l1: 0.0335428\n",
      "Early stopping, best iteration is:\n",
      "[1974]\ttraining's l1: 0.0283857\tvalid_1's l1: 0.0335386\n"
     ]
    },
    {
     "name": "stderr",
     "output_type": "stream",
     "text": [
      "\r\n",
      " 33% 1/3 [00:03<00:06,  3.19s/it]"
     ]
    },
    {
     "name": "stdout",
     "output_type": "stream",
     "text": [
      "Training fold 2\n",
      "Training until validation scores don't improve for 50 rounds\n",
      "[500]\ttraining's l1: 0.0321123\tvalid_1's l1: 0.0337486\n"
     ]
    },
    {
     "name": "stderr",
     "output_type": "stream",
     "text": [
      "\r\n",
      " 67% 2/3 [00:04<00:02,  2.00s/it]"
     ]
    },
    {
     "name": "stdout",
     "output_type": "stream",
     "text": [
      "Early stopping, best iteration is:\n",
      "[618]\ttraining's l1: 0.0318061\tvalid_1's l1: 0.0336761\n",
      "Training fold 3\n",
      "Training until validation scores don't improve for 50 rounds\n",
      "[500]\ttraining's l1: 0.0325428\tvalid_1's l1: 0.0329109\n"
     ]
    },
    {
     "name": "stderr",
     "output_type": "stream",
     "text": [
      "100% 3/3 [00:05<00:00,  1.94s/it]\n"
     ]
    },
    {
     "name": "stdout",
     "output_type": "stream",
     "text": [
      "Early stopping, best iteration is:\n",
      "[857]\ttraining's l1: 0.0317793\tvalid_1's l1: 0.0328078\n",
      "target 2\n"
     ]
    },
    {
     "name": "stderr",
     "output_type": "stream",
     "text": [
      "\r\n",
      "  0% 0/3 [00:00<?, ?it/s]"
     ]
    },
    {
     "name": "stdout",
     "output_type": "stream",
     "text": [
      "Training fold 1\n",
      "Training until validation scores don't improve for 50 rounds\n"
     ]
    },
    {
     "name": "stderr",
     "output_type": "stream",
     "text": [
      "\r\n",
      " 33% 1/3 [00:00<00:01,  1.59it/s]"
     ]
    },
    {
     "name": "stdout",
     "output_type": "stream",
     "text": [
      "Early stopping, best iteration is:\n",
      "[237]\ttraining's l1: 0.0250215\tvalid_1's l1: 0.0259226\n",
      "Training fold 2\n",
      "Training until validation scores don't improve for 50 rounds\n"
     ]
    },
    {
     "name": "stderr",
     "output_type": "stream",
     "text": [
      "\r\n",
      " 67% 2/3 [00:01<00:00,  1.18it/s]"
     ]
    },
    {
     "name": "stdout",
     "output_type": "stream",
     "text": [
      "[500]\ttraining's l1: 0.0248779\tvalid_1's l1: 0.0254374\n",
      "Early stopping, best iteration is:\n",
      "[483]\ttraining's l1: 0.0248996\tvalid_1's l1: 0.0254348\n",
      "Training fold 3\n",
      "Training until validation scores don't improve for 50 rounds\n"
     ]
    },
    {
     "name": "stderr",
     "output_type": "stream",
     "text": [
      "100% 3/3 [00:02<00:00,  1.18it/s]\n"
     ]
    },
    {
     "name": "stdout",
     "output_type": "stream",
     "text": [
      "Early stopping, best iteration is:\n",
      "[423]\ttraining's l1: 0.024848\tvalid_1's l1: 0.0256177\n",
      "target 3\n"
     ]
    },
    {
     "name": "stderr",
     "output_type": "stream",
     "text": [
      "\r\n",
      "  0% 0/3 [00:00<?, ?it/s]"
     ]
    },
    {
     "name": "stdout",
     "output_type": "stream",
     "text": [
      "Training fold 1\n",
      "Training until validation scores don't improve for 50 rounds\n",
      "[500]\ttraining's l1: 0.143343\tvalid_1's l1: 0.15025\n"
     ]
    },
    {
     "name": "stderr",
     "output_type": "stream",
     "text": [
      "\r\n",
      " 33% 1/3 [00:02<00:04,  2.34s/it]"
     ]
    },
    {
     "name": "stdout",
     "output_type": "stream",
     "text": [
      "[1000]\ttraining's l1: 0.130114\tvalid_1's l1: 0.141683\n",
      "Early stopping, best iteration is:\n",
      "[1000]\ttraining's l1: 0.130114\tvalid_1's l1: 0.141683\n",
      "Training fold 2\n",
      "Training until validation scores don't improve for 50 rounds\n",
      "[500]\ttraining's l1: 0.142539\tvalid_1's l1: 0.150584\n",
      "[1000]\ttraining's l1: 0.129148\tvalid_1's l1: 0.140673\n"
     ]
    },
    {
     "name": "stderr",
     "output_type": "stream",
     "text": [
      "\r\n",
      " 67% 2/3 [00:04<00:02,  2.49s/it]"
     ]
    },
    {
     "name": "stdout",
     "output_type": "stream",
     "text": [
      "Early stopping, best iteration is:\n",
      "[1169]\ttraining's l1: 0.127889\tvalid_1's l1: 0.14062\n",
      "Training fold 3\n",
      "Training until validation scores don't improve for 50 rounds\n",
      "[500]\ttraining's l1: 0.14295\tvalid_1's l1: 0.147172\n"
     ]
    },
    {
     "name": "stderr",
     "output_type": "stream",
     "text": [
      "100% 3/3 [00:06<00:00,  2.31s/it]\n"
     ]
    },
    {
     "name": "stdout",
     "output_type": "stream",
     "text": [
      "Early stopping, best iteration is:\n",
      "[722]\ttraining's l1: 0.132042\tvalid_1's l1: 0.14117\n",
      "target 4\n"
     ]
    },
    {
     "name": "stderr",
     "output_type": "stream",
     "text": [
      "\r\n",
      "  0% 0/3 [00:00<?, ?it/s]"
     ]
    },
    {
     "name": "stdout",
     "output_type": "stream",
     "text": [
      "Training fold 1\n",
      "Training until validation scores don't improve for 50 rounds\n",
      "[500]\ttraining's l1: 0.0705332\tvalid_1's l1: 0.0775491\n",
      "[1000]\ttraining's l1: 0.0673444\tvalid_1's l1: 0.0763859\n",
      "[1500]\ttraining's l1: 0.0650165\tvalid_1's l1: 0.0755629\n",
      "[2000]\ttraining's l1: 0.0629341\tvalid_1's l1: 0.0749054\n",
      "[2500]\ttraining's l1: 0.0611034\tvalid_1's l1: 0.0745079\n",
      "[3000]\ttraining's l1: 0.0595403\tvalid_1's l1: 0.0743357\n",
      "Early stopping, best iteration is:\n",
      "[3066]\ttraining's l1: 0.0593388\tvalid_1's l1: 0.0743079\n"
     ]
    },
    {
     "name": "stderr",
     "output_type": "stream",
     "text": [
      "\r\n",
      " 33% 1/3 [00:04<00:09,  4.68s/it]"
     ]
    },
    {
     "name": "stdout",
     "output_type": "stream",
     "text": [
      "Training fold 2\n",
      "Training until validation scores don't improve for 50 rounds\n",
      "[500]\ttraining's l1: 0.0717579\tvalid_1's l1: 0.076408\n",
      "[1000]\ttraining's l1: 0.0688367\tvalid_1's l1: 0.0756173\n",
      "[1500]\ttraining's l1: 0.06632\tvalid_1's l1: 0.0749826\n",
      "[2000]\ttraining's l1: 0.0641027\tvalid_1's l1: 0.0743787\n",
      "[2500]\ttraining's l1: 0.0624637\tvalid_1's l1: 0.0741921\n",
      "Early stopping, best iteration is:\n",
      "[2776]\ttraining's l1: 0.0615732\tvalid_1's l1: 0.0741225\n"
     ]
    },
    {
     "name": "stderr",
     "output_type": "stream",
     "text": [
      "\r\n",
      " 67% 2/3 [00:08<00:04,  4.39s/it]"
     ]
    },
    {
     "name": "stdout",
     "output_type": "stream",
     "text": [
      "Training fold 3\n",
      "Training until validation scores don't improve for 50 rounds\n",
      "[500]\ttraining's l1: 0.0730133\tvalid_1's l1: 0.0748126\n",
      "[1000]\ttraining's l1: 0.0700257\tvalid_1's l1: 0.0740291\n",
      "[1500]\ttraining's l1: 0.0675994\tvalid_1's l1: 0.0734507\n",
      "[2000]\ttraining's l1: 0.0653988\tvalid_1's l1: 0.0729641\n",
      "Early stopping, best iteration is:\n",
      "[2419]\ttraining's l1: 0.0638888\tvalid_1's l1: 0.0727468\n"
     ]
    },
    {
     "name": "stderr",
     "output_type": "stream",
     "text": [
      "100% 3/3 [00:12<00:00,  4.18s/it]\n"
     ]
    },
    {
     "name": "stdout",
     "output_type": "stream",
     "text": [
      "target 5\n"
     ]
    },
    {
     "name": "stderr",
     "output_type": "stream",
     "text": [
      "\r\n",
      "  0% 0/3 [00:00<?, ?it/s]"
     ]
    },
    {
     "name": "stdout",
     "output_type": "stream",
     "text": [
      "Training fold 1\n",
      "Training until validation scores don't improve for 50 rounds\n"
     ]
    },
    {
     "name": "stderr",
     "output_type": "stream",
     "text": [
      "\r\n",
      " 33% 1/3 [00:00<00:01,  1.18it/s]"
     ]
    },
    {
     "name": "stdout",
     "output_type": "stream",
     "text": [
      "Early stopping, best iteration is:\n",
      "[374]\ttraining's l1: 0.0511764\tvalid_1's l1: 0.0535326\n",
      "Training fold 2\n",
      "Training until validation scores don't improve for 50 rounds\n"
     ]
    },
    {
     "name": "stderr",
     "output_type": "stream",
     "text": [
      "\r\n",
      " 67% 2/3 [00:01<00:00,  1.02it/s]"
     ]
    },
    {
     "name": "stdout",
     "output_type": "stream",
     "text": [
      "[500]\ttraining's l1: 0.0512245\tvalid_1's l1: 0.0525484\n",
      "Early stopping, best iteration is:\n",
      "[515]\ttraining's l1: 0.0511837\tvalid_1's l1: 0.0525427\n",
      "Training fold 3\n",
      "Training until validation scores don't improve for 50 rounds\n"
     ]
    },
    {
     "name": "stderr",
     "output_type": "stream",
     "text": [
      "100% 3/3 [00:02<00:00,  1.01it/s]\n"
     ]
    },
    {
     "name": "stdout",
     "output_type": "stream",
     "text": [
      "[500]\ttraining's l1: 0.051061\tvalid_1's l1: 0.052886\n",
      "Early stopping, best iteration is:\n",
      "[522]\ttraining's l1: 0.051002\tvalid_1's l1: 0.0528822\n",
      "target 6\n"
     ]
    },
    {
     "name": "stderr",
     "output_type": "stream",
     "text": [
      "\r\n",
      "  0% 0/3 [00:00<?, ?it/s]"
     ]
    },
    {
     "name": "stdout",
     "output_type": "stream",
     "text": [
      "Training fold 1\n",
      "Training until validation scores don't improve for 50 rounds\n",
      "[500]\ttraining's l1: 0.245592\tvalid_1's l1: 0.259589\n",
      "[1000]\ttraining's l1: 0.222295\tvalid_1's l1: 0.245409\n"
     ]
    },
    {
     "name": "stderr",
     "output_type": "stream",
     "text": [
      "\r\n",
      " 33% 1/3 [00:02<00:04,  2.45s/it]"
     ]
    },
    {
     "name": "stdout",
     "output_type": "stream",
     "text": [
      "Early stopping, best iteration is:\n",
      "[1121]\ttraining's l1: 0.220228\tvalid_1's l1: 0.245244\n",
      "Training fold 2\n",
      "Training until validation scores don't improve for 50 rounds\n",
      "[500]\ttraining's l1: 0.245657\tvalid_1's l1: 0.259347\n",
      "[1000]\ttraining's l1: 0.222588\tvalid_1's l1: 0.24186\n",
      "[1500]\ttraining's l1: 0.215669\tvalid_1's l1: 0.241418\n",
      "[2000]\ttraining's l1: 0.209396\tvalid_1's l1: 0.241081\n",
      "Early stopping, best iteration is:\n",
      "[2147]\ttraining's l1: 0.207552\tvalid_1's l1: 0.240949\n"
     ]
    },
    {
     "name": "stderr",
     "output_type": "stream",
     "text": [
      "\r\n",
      " 67% 2/3 [00:06<00:03,  3.39s/it]"
     ]
    },
    {
     "name": "stdout",
     "output_type": "stream",
     "text": [
      "Training fold 3\n",
      "Training until validation scores don't improve for 50 rounds\n",
      "[500]\ttraining's l1: 0.245336\tvalid_1's l1: 0.251966\n",
      "[1000]\ttraining's l1: 0.222529\tvalid_1's l1: 0.243034\n"
     ]
    },
    {
     "name": "stderr",
     "output_type": "stream",
     "text": [
      "100% 3/3 [00:09<00:00,  3.09s/it]\n"
     ]
    },
    {
     "name": "stdout",
     "output_type": "stream",
     "text": [
      "Early stopping, best iteration is:\n",
      "[1286]\ttraining's l1: 0.218494\tvalid_1's l1: 0.24271\n",
      "target 7\n"
     ]
    },
    {
     "name": "stderr",
     "output_type": "stream",
     "text": [
      "\r\n",
      "  0% 0/3 [00:00<?, ?it/s]"
     ]
    },
    {
     "name": "stdout",
     "output_type": "stream",
     "text": [
      "Training fold 1\n",
      "Training until validation scores don't improve for 50 rounds\n",
      "[500]\ttraining's l1: 0.124423\tvalid_1's l1: 0.137144\n",
      "[1000]\ttraining's l1: 0.117888\tvalid_1's l1: 0.134555\n",
      "[1500]\ttraining's l1: 0.113035\tvalid_1's l1: 0.132836\n",
      "[2000]\ttraining's l1: 0.109123\tvalid_1's l1: 0.131626\n",
      "[2500]\ttraining's l1: 0.105511\tvalid_1's l1: 0.130527\n",
      "[3000]\ttraining's l1: 0.10242\tvalid_1's l1: 0.129982\n",
      "[3500]\ttraining's l1: 0.0996879\tvalid_1's l1: 0.129637\n",
      "[4000]\ttraining's l1: 0.0972968\tvalid_1's l1: 0.12948\n",
      "Early stopping, best iteration is:\n",
      "[3967]\ttraining's l1: 0.097439\tvalid_1's l1: 0.129466\n"
     ]
    },
    {
     "name": "stderr",
     "output_type": "stream",
     "text": [
      "\r\n",
      " 33% 1/3 [00:05<00:11,  5.92s/it]"
     ]
    },
    {
     "name": "stdout",
     "output_type": "stream",
     "text": [
      "Training fold 2\n",
      "Training until validation scores don't improve for 50 rounds\n",
      "[500]\ttraining's l1: 0.124849\tvalid_1's l1: 0.133658\n",
      "[1000]\ttraining's l1: 0.118759\tvalid_1's l1: 0.131323\n",
      "[1500]\ttraining's l1: 0.114165\tvalid_1's l1: 0.130129\n",
      "[2000]\ttraining's l1: 0.110142\tvalid_1's l1: 0.129157\n",
      "[2500]\ttraining's l1: 0.106769\tvalid_1's l1: 0.128528\n",
      "[3000]\ttraining's l1: 0.103934\tvalid_1's l1: 0.128063\n",
      "Early stopping, best iteration is:\n",
      "[3244]\ttraining's l1: 0.10271\tvalid_1's l1: 0.127931\n"
     ]
    },
    {
     "name": "stderr",
     "output_type": "stream",
     "text": [
      "\r\n",
      " 67% 2/3 [00:10<00:05,  5.23s/it]"
     ]
    },
    {
     "name": "stdout",
     "output_type": "stream",
     "text": [
      "Training fold 3\n",
      "Training until validation scores don't improve for 50 rounds\n",
      "[500]\ttraining's l1: 0.126457\tvalid_1's l1: 0.131324\n",
      "[1000]\ttraining's l1: 0.120661\tvalid_1's l1: 0.129685\n",
      "[1500]\ttraining's l1: 0.115035\tvalid_1's l1: 0.127593\n",
      "[2000]\ttraining's l1: 0.110916\tvalid_1's l1: 0.126557\n",
      "[2500]\ttraining's l1: 0.107658\tvalid_1's l1: 0.126079\n",
      "Early stopping, best iteration is:\n",
      "[2713]\ttraining's l1: 0.106284\tvalid_1's l1: 0.125941\n"
     ]
    },
    {
     "name": "stderr",
     "output_type": "stream",
     "text": [
      "100% 3/3 [00:14<00:00,  4.92s/it]\n"
     ]
    },
    {
     "name": "stdout",
     "output_type": "stream",
     "text": [
      "target 8\n"
     ]
    },
    {
     "name": "stderr",
     "output_type": "stream",
     "text": [
      "\r\n",
      "  0% 0/3 [00:00<?, ?it/s]"
     ]
    },
    {
     "name": "stdout",
     "output_type": "stream",
     "text": [
      "Training fold 1\n",
      "Training until validation scores don't improve for 50 rounds\n"
     ]
    },
    {
     "name": "stderr",
     "output_type": "stream",
     "text": [
      "\r\n",
      " 33% 1/3 [00:00<00:01,  1.31it/s]"
     ]
    },
    {
     "name": "stdout",
     "output_type": "stream",
     "text": [
      "Early stopping, best iteration is:\n",
      "[316]\ttraining's l1: 0.078414\tvalid_1's l1: 0.0821477\n",
      "Training fold 2\n",
      "Training until validation scores don't improve for 50 rounds\n"
     ]
    },
    {
     "name": "stderr",
     "output_type": "stream",
     "text": [
      "\r\n",
      " 67% 2/3 [00:01<00:00,  1.13it/s]"
     ]
    },
    {
     "name": "stdout",
     "output_type": "stream",
     "text": [
      "[500]\ttraining's l1: 0.0783913\tvalid_1's l1: 0.0801255\n",
      "Early stopping, best iteration is:\n",
      "[471]\ttraining's l1: 0.0785175\tvalid_1's l1: 0.0801235\n",
      "Training fold 3\n",
      "Training until validation scores don't improve for 50 rounds\n",
      "[500]\ttraining's l1: 0.078002\tvalid_1's l1: 0.0807476\n",
      "Early stopping, best iteration is:\n",
      "[575]\ttraining's l1: 0.0776986\tvalid_1's l1: 0.0807425\n"
     ]
    },
    {
     "name": "stderr",
     "output_type": "stream",
     "text": [
      "100% 3/3 [00:02<00:00,  1.02it/s]\n"
     ]
    },
    {
     "name": "stdout",
     "output_type": "stream",
     "text": [
      "target 9\n"
     ]
    },
    {
     "name": "stderr",
     "output_type": "stream",
     "text": [
      "\r\n",
      "  0% 0/3 [00:00<?, ?it/s]"
     ]
    },
    {
     "name": "stdout",
     "output_type": "stream",
     "text": [
      "Training fold 1\n",
      "Training until validation scores don't improve for 50 rounds\n",
      "[500]\ttraining's l1: 0.381741\tvalid_1's l1: 0.404841\n",
      "[1000]\ttraining's l1: 0.346197\tvalid_1's l1: 0.383192\n",
      "[1500]\ttraining's l1: 0.333931\tvalid_1's l1: 0.38173\n",
      "Early stopping, best iteration is:\n",
      "[1927]\ttraining's l1: 0.324925\tvalid_1's l1: 0.381335\n"
     ]
    },
    {
     "name": "stderr",
     "output_type": "stream",
     "text": [
      "\r\n",
      " 33% 1/3 [00:03<00:07,  3.63s/it]"
     ]
    },
    {
     "name": "stdout",
     "output_type": "stream",
     "text": [
      "Training fold 2\n",
      "Training until validation scores don't improve for 50 rounds\n",
      "[500]\ttraining's l1: 0.381236\tvalid_1's l1: 0.406003\n",
      "[1000]\ttraining's l1: 0.34526\tvalid_1's l1: 0.3766\n",
      "[1500]\ttraining's l1: 0.332832\tvalid_1's l1: 0.374757\n",
      "[2000]\ttraining's l1: 0.32274\tvalid_1's l1: 0.373647\n",
      "[2500]\ttraining's l1: 0.313412\tvalid_1's l1: 0.373028\n",
      "Early stopping, best iteration is:\n",
      "[2853]\ttraining's l1: 0.30721\tvalid_1's l1: 0.372571\n"
     ]
    },
    {
     "name": "stderr",
     "output_type": "stream",
     "text": [
      "\r\n",
      " 67% 2/3 [00:08<00:04,  4.52s/it]"
     ]
    },
    {
     "name": "stdout",
     "output_type": "stream",
     "text": [
      "Training fold 3\n",
      "Training until validation scores don't improve for 50 rounds\n",
      "[500]\ttraining's l1: 0.381345\tvalid_1's l1: 0.390585\n",
      "[1000]\ttraining's l1: 0.346296\tvalid_1's l1: 0.376681\n"
     ]
    },
    {
     "name": "stderr",
     "output_type": "stream",
     "text": [
      "100% 3/3 [00:11<00:00,  3.75s/it]\n"
     ]
    },
    {
     "name": "stdout",
     "output_type": "stream",
     "text": [
      "Early stopping, best iteration is:\n",
      "[1126]\ttraining's l1: 0.343016\tvalid_1's l1: 0.376437\n",
      "target 10\n"
     ]
    },
    {
     "name": "stderr",
     "output_type": "stream",
     "text": [
      "\r\n",
      "  0% 0/3 [00:00<?, ?it/s]"
     ]
    },
    {
     "name": "stdout",
     "output_type": "stream",
     "text": [
      "Training fold 1\n",
      "Training until validation scores don't improve for 50 rounds\n",
      "[500]\ttraining's l1: 0.197884\tvalid_1's l1: 0.218774\n",
      "[1000]\ttraining's l1: 0.188069\tvalid_1's l1: 0.215583\n",
      "[1500]\ttraining's l1: 0.180283\tvalid_1's l1: 0.213006\n",
      "[2000]\ttraining's l1: 0.173389\tvalid_1's l1: 0.210474\n",
      "[2500]\ttraining's l1: 0.167555\tvalid_1's l1: 0.208727\n",
      "[3000]\ttraining's l1: 0.162638\tvalid_1's l1: 0.207719\n",
      "[3500]\ttraining's l1: 0.158266\tvalid_1's l1: 0.207287\n",
      "[4000]\ttraining's l1: 0.154207\tvalid_1's l1: 0.206886\n",
      "Early stopping, best iteration is:\n",
      "[4038]\ttraining's l1: 0.15391\tvalid_1's l1: 0.206856\n"
     ]
    },
    {
     "name": "stderr",
     "output_type": "stream",
     "text": [
      "\r\n",
      " 33% 1/3 [00:06<00:12,  6.15s/it]"
     ]
    },
    {
     "name": "stdout",
     "output_type": "stream",
     "text": [
      "Training fold 2\n",
      "Training until validation scores don't improve for 50 rounds\n",
      "[500]\ttraining's l1: 0.199665\tvalid_1's l1: 0.213289\n",
      "[1000]\ttraining's l1: 0.189306\tvalid_1's l1: 0.209858\n",
      "[1500]\ttraining's l1: 0.180983\tvalid_1's l1: 0.207522\n",
      "[2000]\ttraining's l1: 0.174764\tvalid_1's l1: 0.206032\n",
      "[2500]\ttraining's l1: 0.169972\tvalid_1's l1: 0.205516\n",
      "[3000]\ttraining's l1: 0.165203\tvalid_1's l1: 0.204818\n",
      "[3500]\ttraining's l1: 0.160703\tvalid_1's l1: 0.204182\n",
      "Early stopping, best iteration is:\n",
      "[3766]\ttraining's l1: 0.15845\tvalid_1's l1: 0.203956\n"
     ]
    },
    {
     "name": "stderr",
     "output_type": "stream",
     "text": [
      "\r\n",
      " 67% 2/3 [00:11<00:05,  5.73s/it]"
     ]
    },
    {
     "name": "stdout",
     "output_type": "stream",
     "text": [
      "Training fold 3\n",
      "Training until validation scores don't improve for 50 rounds\n",
      "[500]\ttraining's l1: 0.199788\tvalid_1's l1: 0.209894\n",
      "[1000]\ttraining's l1: 0.190183\tvalid_1's l1: 0.20749\n",
      "[1500]\ttraining's l1: 0.181615\tvalid_1's l1: 0.205018\n",
      "[2000]\ttraining's l1: 0.174963\tvalid_1's l1: 0.203313\n",
      "[2500]\ttraining's l1: 0.169201\tvalid_1's l1: 0.202291\n",
      "[3000]\ttraining's l1: 0.164318\tvalid_1's l1: 0.201708\n",
      "Early stopping, best iteration is:\n",
      "[3377]\ttraining's l1: 0.160883\tvalid_1's l1: 0.201313\n"
     ]
    },
    {
     "name": "stderr",
     "output_type": "stream",
     "text": [
      "100% 3/3 [00:16<00:00,  5.55s/it]\n"
     ]
    },
    {
     "name": "stdout",
     "output_type": "stream",
     "text": [
      "target 11\n"
     ]
    },
    {
     "name": "stderr",
     "output_type": "stream",
     "text": [
      "\r\n",
      "  0% 0/3 [00:00<?, ?it/s]"
     ]
    },
    {
     "name": "stdout",
     "output_type": "stream",
     "text": [
      "Training fold 1\n",
      "Training until validation scores don't improve for 50 rounds\n"
     ]
    },
    {
     "name": "stderr",
     "output_type": "stream",
     "text": [
      "\r\n",
      " 33% 1/3 [00:00<00:01,  1.19it/s]"
     ]
    },
    {
     "name": "stdout",
     "output_type": "stream",
     "text": [
      "Early stopping, best iteration is:\n",
      "[356]\ttraining's l1: 0.105939\tvalid_1's l1: 0.111798\n",
      "Training fold 2\n",
      "Training until validation scores don't improve for 50 rounds\n"
     ]
    },
    {
     "name": "stderr",
     "output_type": "stream",
     "text": [
      "\r\n",
      " 67% 2/3 [00:01<00:00,  1.09it/s]"
     ]
    },
    {
     "name": "stdout",
     "output_type": "stream",
     "text": [
      "Early stopping, best iteration is:\n",
      "[439]\ttraining's l1: 0.10675\tvalid_1's l1: 0.108599\n",
      "Training fold 3\n",
      "Training until validation scores don't improve for 50 rounds\n",
      "[500]\ttraining's l1: 0.105822\tvalid_1's l1: 0.10963\n",
      "Early stopping, best iteration is:\n",
      "[560]\ttraining's l1: 0.105492\tvalid_1's l1: 0.109617\n"
     ]
    },
    {
     "name": "stderr",
     "output_type": "stream",
     "text": [
      "100% 3/3 [00:02<00:00,  1.00it/s]\n"
     ]
    },
    {
     "name": "stdout",
     "output_type": "stream",
     "text": [
      "target 12\n"
     ]
    },
    {
     "name": "stderr",
     "output_type": "stream",
     "text": [
      "\r\n",
      "  0% 0/3 [00:00<?, ?it/s]"
     ]
    },
    {
     "name": "stdout",
     "output_type": "stream",
     "text": [
      "Training fold 1\n",
      "Training until validation scores don't improve for 50 rounds\n",
      "[500]\ttraining's l1: 0.551831\tvalid_1's l1: 0.582653\n",
      "[1000]\ttraining's l1: 0.496664\tvalid_1's l1: 0.549386\n",
      "[1500]\ttraining's l1: 0.476712\tvalid_1's l1: 0.545793\n",
      "[2000]\ttraining's l1: 0.460495\tvalid_1's l1: 0.543891\n",
      "[2500]\ttraining's l1: 0.446892\tvalid_1's l1: 0.542255\n",
      "Early stopping, best iteration is:\n",
      "[2587]\ttraining's l1: 0.444642\tvalid_1's l1: 0.541995\n"
     ]
    },
    {
     "name": "stderr",
     "output_type": "stream",
     "text": [
      "\r\n",
      " 33% 1/3 [00:04<00:09,  4.70s/it]"
     ]
    },
    {
     "name": "stdout",
     "output_type": "stream",
     "text": [
      "Training fold 2\n",
      "Training until validation scores don't improve for 50 rounds\n",
      "[500]\ttraining's l1: 0.548479\tvalid_1's l1: 0.585588\n",
      "[1000]\ttraining's l1: 0.496669\tvalid_1's l1: 0.542716\n",
      "[1500]\ttraining's l1: 0.477099\tvalid_1's l1: 0.53803\n",
      "[2000]\ttraining's l1: 0.461164\tvalid_1's l1: 0.535733\n",
      "Early stopping, best iteration is:\n",
      "[2255]\ttraining's l1: 0.453834\tvalid_1's l1: 0.535156\n"
     ]
    },
    {
     "name": "stderr",
     "output_type": "stream",
     "text": [
      "\r\n",
      " 67% 2/3 [00:08<00:04,  4.44s/it]"
     ]
    },
    {
     "name": "stdout",
     "output_type": "stream",
     "text": [
      "Training fold 3\n",
      "Training until validation scores don't improve for 50 rounds\n",
      "[500]\ttraining's l1: 0.549612\tvalid_1's l1: 0.564398\n",
      "[1000]\ttraining's l1: 0.498779\tvalid_1's l1: 0.541513\n",
      "[1500]\ttraining's l1: 0.480607\tvalid_1's l1: 0.538256\n",
      "[2000]\ttraining's l1: 0.46535\tvalid_1's l1: 0.535582\n",
      "[2500]\ttraining's l1: 0.450791\tvalid_1's l1: 0.53407\n",
      "Early stopping, best iteration is:\n",
      "[2709]\ttraining's l1: 0.445406\tvalid_1's l1: 0.533675\n"
     ]
    },
    {
     "name": "stderr",
     "output_type": "stream",
     "text": [
      "100% 3/3 [00:13<00:00,  4.62s/it]\n"
     ]
    },
    {
     "name": "stdout",
     "output_type": "stream",
     "text": [
      "target 13\n"
     ]
    },
    {
     "name": "stderr",
     "output_type": "stream",
     "text": [
      "\r\n",
      "  0% 0/3 [00:00<?, ?it/s]"
     ]
    },
    {
     "name": "stdout",
     "output_type": "stream",
     "text": [
      "Training fold 1\n",
      "Training until validation scores don't improve for 50 rounds\n",
      "[500]\ttraining's l1: 0.295293\tvalid_1's l1: 0.325911\n",
      "[1000]\ttraining's l1: 0.281696\tvalid_1's l1: 0.322341\n",
      "[1500]\ttraining's l1: 0.269945\tvalid_1's l1: 0.318691\n",
      "[2000]\ttraining's l1: 0.259435\tvalid_1's l1: 0.315327\n",
      "[2500]\ttraining's l1: 0.250878\tvalid_1's l1: 0.313509\n",
      "[3000]\ttraining's l1: 0.243\tvalid_1's l1: 0.311784\n",
      "[3500]\ttraining's l1: 0.235863\tvalid_1's l1: 0.310814\n",
      "Early stopping, best iteration is:\n",
      "[3685]\ttraining's l1: 0.233558\tvalid_1's l1: 0.310659\n"
     ]
    },
    {
     "name": "stderr",
     "output_type": "stream",
     "text": [
      "\r\n",
      " 33% 1/3 [00:05<00:11,  5.57s/it]"
     ]
    },
    {
     "name": "stdout",
     "output_type": "stream",
     "text": [
      "Training fold 2\n",
      "Training until validation scores don't improve for 50 rounds\n",
      "[500]\ttraining's l1: 0.297682\tvalid_1's l1: 0.315903\n",
      "[1000]\ttraining's l1: 0.283382\tvalid_1's l1: 0.311989\n",
      "[1500]\ttraining's l1: 0.271435\tvalid_1's l1: 0.309038\n",
      "[2000]\ttraining's l1: 0.261813\tvalid_1's l1: 0.307188\n",
      "[2500]\ttraining's l1: 0.253223\tvalid_1's l1: 0.305886\n",
      "[3000]\ttraining's l1: 0.245457\tvalid_1's l1: 0.305198\n",
      "Early stopping, best iteration is:\n",
      "[2979]\ttraining's l1: 0.245719\tvalid_1's l1: 0.305142\n"
     ]
    },
    {
     "name": "stderr",
     "output_type": "stream",
     "text": [
      "\r\n",
      " 67% 2/3 [00:10<00:05,  5.09s/it]"
     ]
    },
    {
     "name": "stdout",
     "output_type": "stream",
     "text": [
      "Training fold 3\n",
      "Training until validation scores don't improve for 50 rounds\n",
      "[500]\ttraining's l1: 0.298117\tvalid_1's l1: 0.316768\n",
      "[1000]\ttraining's l1: 0.283676\tvalid_1's l1: 0.313249\n",
      "[1500]\ttraining's l1: 0.270755\tvalid_1's l1: 0.310202\n",
      "[2000]\ttraining's l1: 0.260313\tvalid_1's l1: 0.308172\n",
      "[2500]\ttraining's l1: 0.251633\tvalid_1's l1: 0.306737\n",
      "[3000]\ttraining's l1: 0.243432\tvalid_1's l1: 0.305753\n",
      "Early stopping, best iteration is:\n",
      "[3239]\ttraining's l1: 0.239827\tvalid_1's l1: 0.305352\n"
     ]
    },
    {
     "name": "stderr",
     "output_type": "stream",
     "text": [
      "100% 3/3 [00:15<00:00,  5.08s/it]\n"
     ]
    },
    {
     "name": "stdout",
     "output_type": "stream",
     "text": [
      "target 14\n"
     ]
    },
    {
     "name": "stderr",
     "output_type": "stream",
     "text": [
      "\r\n",
      "  0% 0/3 [00:00<?, ?it/s]"
     ]
    },
    {
     "name": "stdout",
     "output_type": "stream",
     "text": [
      "Training fold 1\n",
      "Training until validation scores don't improve for 50 rounds\n"
     ]
    },
    {
     "name": "stderr",
     "output_type": "stream",
     "text": [
      "\r\n",
      " 33% 1/3 [00:01<00:02,  1.08s/it]"
     ]
    },
    {
     "name": "stdout",
     "output_type": "stream",
     "text": [
      "[500]\ttraining's l1: 0.133291\tvalid_1's l1: 0.142399\n",
      "Early stopping, best iteration is:\n",
      "[481]\ttraining's l1: 0.133439\tvalid_1's l1: 0.142384\n",
      "Training fold 2\n",
      "Training until validation scores don't improve for 50 rounds\n",
      "[500]\ttraining's l1: 0.135189\tvalid_1's l1: 0.138135\n"
     ]
    },
    {
     "name": "stderr",
     "output_type": "stream",
     "text": [
      "\r\n",
      " 67% 2/3 [00:02<00:01,  1.23s/it]"
     ]
    },
    {
     "name": "stdout",
     "output_type": "stream",
     "text": [
      "Early stopping, best iteration is:\n",
      "[669]\ttraining's l1: 0.133957\tvalid_1's l1: 0.138083\n",
      "Training fold 3\n",
      "Training until validation scores don't improve for 50 rounds\n",
      "[500]\ttraining's l1: 0.134426\tvalid_1's l1: 0.139288\n"
     ]
    },
    {
     "name": "stderr",
     "output_type": "stream",
     "text": [
      "100% 3/3 [00:03<00:00,  1.22s/it]\n"
     ]
    },
    {
     "name": "stdout",
     "output_type": "stream",
     "text": [
      "Early stopping, best iteration is:\n",
      "[615]\ttraining's l1: 0.133551\tvalid_1's l1: 0.139245\n",
      "target 15\n"
     ]
    },
    {
     "name": "stderr",
     "output_type": "stream",
     "text": [
      "\r\n",
      "  0% 0/3 [00:00<?, ?it/s]"
     ]
    },
    {
     "name": "stdout",
     "output_type": "stream",
     "text": [
      "Training fold 1\n",
      "Training until validation scores don't improve for 50 rounds\n",
      "[500]\ttraining's l1: 0.746361\tvalid_1's l1: 0.784917\n",
      "[1000]\ttraining's l1: 0.669906\tvalid_1's l1: 0.73614\n",
      "[1500]\ttraining's l1: 0.640429\tvalid_1's l1: 0.729609\n",
      "[2000]\ttraining's l1: 0.617809\tvalid_1's l1: 0.725408\n",
      "[2500]\ttraining's l1: 0.599472\tvalid_1's l1: 0.724007\n",
      "Early stopping, best iteration is:\n",
      "[2848]\ttraining's l1: 0.587836\tvalid_1's l1: 0.722999\n"
     ]
    },
    {
     "name": "stderr",
     "output_type": "stream",
     "text": [
      "\r\n",
      " 33% 1/3 [00:05<00:10,  5.13s/it]"
     ]
    },
    {
     "name": "stdout",
     "output_type": "stream",
     "text": [
      "Training fold 2\n",
      "Training until validation scores don't improve for 50 rounds\n",
      "[500]\ttraining's l1: 0.742819\tvalid_1's l1: 0.79546\n",
      "[1000]\ttraining's l1: 0.668633\tvalid_1's l1: 0.733448\n",
      "[1500]\ttraining's l1: 0.641191\tvalid_1's l1: 0.724414\n",
      "[2000]\ttraining's l1: 0.619223\tvalid_1's l1: 0.720248\n",
      "[2500]\ttraining's l1: 0.60098\tvalid_1's l1: 0.71817\n",
      "[3000]\ttraining's l1: 0.584505\tvalid_1's l1: 0.717024\n",
      "[3500]\ttraining's l1: 0.569409\tvalid_1's l1: 0.716156\n",
      "[4000]\ttraining's l1: 0.553849\tvalid_1's l1: 0.715228\n",
      "Early stopping, best iteration is:\n",
      "[4429]\ttraining's l1: 0.542278\tvalid_1's l1: 0.714704\n"
     ]
    },
    {
     "name": "stderr",
     "output_type": "stream",
     "text": [
      "\r\n",
      " 67% 2/3 [00:12<00:06,  6.55s/it]"
     ]
    },
    {
     "name": "stdout",
     "output_type": "stream",
     "text": [
      "Training fold 3\n",
      "Training until validation scores don't improve for 50 rounds\n",
      "[500]\ttraining's l1: 0.741896\tvalid_1's l1: 0.767162\n",
      "[1000]\ttraining's l1: 0.669703\tvalid_1's l1: 0.730863\n",
      "[1500]\ttraining's l1: 0.642893\tvalid_1's l1: 0.723892\n",
      "[2000]\ttraining's l1: 0.62155\tvalid_1's l1: 0.720009\n",
      "[2500]\ttraining's l1: 0.602907\tvalid_1's l1: 0.717821\n",
      "Early stopping, best iteration is:\n",
      "[2551]\ttraining's l1: 0.601251\tvalid_1's l1: 0.717722\n"
     ]
    },
    {
     "name": "stderr",
     "output_type": "stream",
     "text": [
      "100% 3/3 [00:17<00:00,  5.75s/it]\n"
     ]
    },
    {
     "name": "stdout",
     "output_type": "stream",
     "text": [
      "target 16\n"
     ]
    },
    {
     "name": "stderr",
     "output_type": "stream",
     "text": [
      "\r\n",
      "  0% 0/3 [00:00<?, ?it/s]"
     ]
    },
    {
     "name": "stdout",
     "output_type": "stream",
     "text": [
      "Training fold 1\n",
      "Training until validation scores don't improve for 50 rounds\n",
      "[500]\ttraining's l1: 0.418875\tvalid_1's l1: 0.460994\n",
      "[1000]\ttraining's l1: 0.398167\tvalid_1's l1: 0.455022\n",
      "[1500]\ttraining's l1: 0.382476\tvalid_1's l1: 0.450637\n",
      "[2000]\ttraining's l1: 0.368262\tvalid_1's l1: 0.447168\n",
      "[2500]\ttraining's l1: 0.356363\tvalid_1's l1: 0.445448\n",
      "[3000]\ttraining's l1: 0.345157\tvalid_1's l1: 0.443752\n",
      "[3500]\ttraining's l1: 0.335333\tvalid_1's l1: 0.442938\n",
      "[4000]\ttraining's l1: 0.326235\tvalid_1's l1: 0.441962\n",
      "Early stopping, best iteration is:\n",
      "[4305]\ttraining's l1: 0.32058\tvalid_1's l1: 0.441377\n"
     ]
    },
    {
     "name": "stderr",
     "output_type": "stream",
     "text": [
      "\r\n",
      " 33% 1/3 [00:06<00:13,  6.50s/it]"
     ]
    },
    {
     "name": "stdout",
     "output_type": "stream",
     "text": [
      "Training fold 2\n",
      "Training until validation scores don't improve for 50 rounds\n",
      "[500]\ttraining's l1: 0.421421\tvalid_1's l1: 0.446171\n",
      "[1000]\ttraining's l1: 0.400222\tvalid_1's l1: 0.439652\n",
      "[1500]\ttraining's l1: 0.382899\tvalid_1's l1: 0.435849\n",
      "[2000]\ttraining's l1: 0.368962\tvalid_1's l1: 0.434054\n",
      "Early stopping, best iteration is:\n",
      "[2390]\ttraining's l1: 0.359605\tvalid_1's l1: 0.433009\n"
     ]
    },
    {
     "name": "stderr",
     "output_type": "stream",
     "text": [
      "\r\n",
      " 67% 2/3 [00:10<00:04,  4.83s/it]"
     ]
    },
    {
     "name": "stdout",
     "output_type": "stream",
     "text": [
      "Training fold 3\n",
      "Training until validation scores don't improve for 50 rounds\n",
      "[500]\ttraining's l1: 0.420625\tvalid_1's l1: 0.450852\n",
      "[1000]\ttraining's l1: 0.399386\tvalid_1's l1: 0.445919\n",
      "[1500]\ttraining's l1: 0.381193\tvalid_1's l1: 0.441428\n",
      "[2000]\ttraining's l1: 0.366827\tvalid_1's l1: 0.439159\n",
      "[2500]\ttraining's l1: 0.353465\tvalid_1's l1: 0.437137\n",
      "[3000]\ttraining's l1: 0.342165\tvalid_1's l1: 0.435833\n",
      "Early stopping, best iteration is:\n",
      "[3045]\ttraining's l1: 0.341261\tvalid_1's l1: 0.435755\n"
     ]
    },
    {
     "name": "stderr",
     "output_type": "stream",
     "text": [
      "100% 3/3 [00:14<00:00,  4.93s/it]\n"
     ]
    },
    {
     "name": "stdout",
     "output_type": "stream",
     "text": [
      "target 17\n"
     ]
    },
    {
     "name": "stderr",
     "output_type": "stream",
     "text": [
      "\r\n",
      "  0% 0/3 [00:00<?, ?it/s]"
     ]
    },
    {
     "name": "stdout",
     "output_type": "stream",
     "text": [
      "Training fold 1\n",
      "Training until validation scores don't improve for 50 rounds\n"
     ]
    },
    {
     "name": "stderr",
     "output_type": "stream",
     "text": [
      "\r\n",
      " 33% 1/3 [00:01<00:02,  1.14s/it]"
     ]
    },
    {
     "name": "stdout",
     "output_type": "stream",
     "text": [
      "[500]\ttraining's l1: 0.162588\tvalid_1's l1: 0.174278\n",
      "Early stopping, best iteration is:\n",
      "[533]\ttraining's l1: 0.162287\tvalid_1's l1: 0.174272\n",
      "Training fold 2\n",
      "Training until validation scores don't improve for 50 rounds\n",
      "[500]\ttraining's l1: 0.165102\tvalid_1's l1: 0.169074\n",
      "Early stopping, best iteration is:\n",
      "[566]\ttraining's l1: 0.164446\tvalid_1's l1: 0.169004\n"
     ]
    },
    {
     "name": "stderr",
     "output_type": "stream",
     "text": [
      "\r\n",
      " 67% 2/3 [00:02<00:01,  1.15s/it]"
     ]
    },
    {
     "name": "stdout",
     "output_type": "stream",
     "text": [
      "Training fold 3\n",
      "Training until validation scores don't improve for 50 rounds\n",
      "[500]\ttraining's l1: 0.164115\tvalid_1's l1: 0.169917\n"
     ]
    },
    {
     "name": "stderr",
     "output_type": "stream",
     "text": [
      "100% 3/3 [00:03<00:00,  1.27s/it]"
     ]
    },
    {
     "name": "stdout",
     "output_type": "stream",
     "text": [
      "Early stopping, best iteration is:\n",
      "[791]\ttraining's l1: 0.161512\tvalid_1's l1: 0.169757\n"
     ]
    },
    {
     "name": "stderr",
     "output_type": "stream",
     "text": [
      "\n"
     ]
    }
   ],
   "source": [
    "TARGET_COL = [\n",
    " 'x_0',\n",
    " 'y_0',\n",
    " 'z_0',\n",
    " 'x_1',\n",
    " 'y_1',\n",
    " 'z_1',\n",
    " 'x_2',\n",
    " 'y_2',\n",
    " 'z_2',\n",
    " 'x_3',\n",
    " 'y_3',\n",
    " 'z_3',\n",
    " 'x_4',\n",
    " 'y_4',\n",
    " 'z_4',\n",
    " 'x_5',\n",
    " 'y_5',\n",
    " 'z_5'\n",
    "]\n",
    "eval_func = eval('mae')\n",
    "\n",
    "oof_predictions = np.zeros((train_feat.shape[0], len(TARGET_COL)))\n",
    "test_predictions = np.zeros((test_feat.shape[0], len(TARGET_COL)))\n",
    "\n",
    "for target_idx in range(len(TARGET_COL)):\n",
    "    print(f'target {target_idx}')\n",
    "\n",
    "    for fold in tqdm(range(n_folds)):\n",
    "        print(f'Training fold {fold + 1}')\n",
    "        target_col = TARGET_COL[target_idx]\n",
    "\n",
    "        model_name = f'lgb_{target_col}'\n",
    "        model = get_model(model_name)\n",
    "        fit_params = get_fit_params(model_name)\n",
    "\n",
    "        trn_ind = folds != fold\n",
    "        val_ind = folds == fold\n",
    "\n",
    "        x_train, x_val = train_feat.loc[trn_ind], train_feat.loc[val_ind]\n",
    "        y_train, y_val = y.loc[trn_ind, target_col], y.loc[val_ind, target_col]\n",
    "        eval_set = [(x_val, y_val)]\n",
    "\n",
    "        fit_params_fold = fit_params.copy()\n",
    "        fit_params_fold['eval_set'] = eval_set\n",
    "\n",
    "        model.fit(x_train, y_train, **fit_params_fold)\n",
    "\n",
    "        if hasattr(model, 'save'):\n",
    "            model.save(fold)\n",
    "        if hasattr(model, 'plot_importance'):\n",
    "            model.plot_importance(fold)\n",
    "\n",
    "        oof_predictions[val_ind, target_idx] = model.predict(x_val)\n",
    "\n",
    "        test_predictions[:, target_idx] += model.predict(test_feat)"
   ]
  },
  {
   "cell_type": "code",
   "execution_count": 33,
   "id": "5035f2cf",
   "metadata": {},
   "outputs": [],
   "source": [
    "def get_result(result_df):\n",
    "\n",
    "    pred_cols = [f'pred_{i}' for i in range(len(TARGET_COL))]\n",
    "\n",
    "    preds = result_df[pred_cols].values\n",
    "    labels = result_df[TARGET_COL].values\n",
    "\n",
    "    eval_func = eval('mae')\n",
    "    best_score = eval_func(labels, preds)\n",
    "\n",
    "    print(f'best_score: {best_score:<.4f}')\n",
    "    return best_score"
   ]
  },
  {
   "cell_type": "code",
   "execution_count": 34,
   "id": "b9db2b6f",
   "metadata": {},
   "outputs": [
    {
     "name": "stdout",
     "output_type": "stream",
     "text": [
      "oof result 0.21350996474782025\n",
      "best_score: 0.2135\n",
      "sample_sub_len:  1727\n",
      "sub_len:  1727\n"
     ]
    }
   ],
   "source": [
    "score = eval_func(y.values, oof_predictions)\n",
    "print(f'oof result {score}')\n",
    "\n",
    "# model.plot_importance_all(n_fold=CFG.n_fold)\n",
    "\n",
    "pred_cols = [f'pred_{i}' for i in range(len(TARGET_COL))]\n",
    "\n",
    "oof = train_df.copy()\n",
    "oof[pred_cols] = oof_predictions\n",
    "oof[TARGET_COL] = y\n",
    "\n",
    "oof_feat = train_feat.copy()\n",
    "oof_feat[pred_cols] = oof_predictions\n",
    "oof_feat[TARGET_COL] = y\n",
    "\n",
    "get_result(oof)\n",
    "\n",
    "# save\n",
    "oof.to_csv(SAVE_DIR / 'oof_gbdt.csv', index=False)\n",
    "oof_feat.to_csv(SAVE_DIR / 'oof_feat_gbdt.csv', index=False)\n",
    "\n",
    "test_predictions /= n_folds\n",
    "\n",
    "test_feat[TARGET_COL] = test_predictions\n",
    "test_feat.to_csv(SAVE_DIR / 'submission_oof.csv', index=False)\n",
    "test_feat[TARGET_COL].to_csv(SAVE_DIR / f'submission_gbdt.csv', index=False)\n",
    "\n",
    "sample_sub = pd.read_csv(ORIGINAL_DATA_DIR / 'atmaCup18__sample_submit.csv')\n",
    "print('sample_sub_len: ', len(sample_sub))\n",
    "print('sub_len: ', len(test_feat))"
   ]
  },
  {
   "cell_type": "code",
   "execution_count": 40,
   "id": "beb56ccd",
   "metadata": {},
   "outputs": [
    {
     "data": {
      "text/plain": [
       "<lightgbm.basic.Booster at 0x7f8eedf546d0>"
      ]
     },
     "execution_count": 40,
     "metadata": {},
     "output_type": "execute_result"
    }
   ],
   "source": [
    "model.model"
   ]
  },
  {
   "cell_type": "code",
   "execution_count": null,
   "id": "88b5afdc",
   "metadata": {},
   "outputs": [],
   "source": []
  },
  {
   "cell_type": "code",
   "execution_count": null,
   "id": "e466ab2f",
   "metadata": {},
   "outputs": [],
   "source": []
  },
  {
   "cell_type": "code",
   "execution_count": null,
   "id": "af9ff658",
   "metadata": {},
   "outputs": [],
   "source": []
  },
  {
   "cell_type": "code",
   "execution_count": null,
   "id": "1eb49df0",
   "metadata": {},
   "outputs": [],
   "source": []
  }
 ],
 "metadata": {
  "kernelspec": {
   "display_name": "Python 3 (ipykernel)",
   "language": "python",
   "name": "python3"
  },
  "language_info": {
   "codemirror_mode": {
    "name": "ipython",
    "version": 3
   },
   "file_extension": ".py",
   "mimetype": "text/x-python",
   "name": "python",
   "nbconvert_exporter": "python",
   "pygments_lexer": "ipython3",
   "version": "3.10.13"
  }
 },
 "nbformat": 4,
 "nbformat_minor": 5
}
